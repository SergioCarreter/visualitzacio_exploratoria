{
 "cells": [
  {
   "cell_type": "markdown",
   "id": "a127877c",
   "metadata": {},
   "source": [
    "## Ejercicio 1\n",
    "\n",
    "Descargar el dataset Airlines Delay y cargalo en un Dataframe\n",
    "\n",
    "Explora los datos que contiene y quedate con las columnas que consideres relevantes\n",
    "\n",
    "---------------------------------"
   ]
  },
  {
   "cell_type": "code",
   "execution_count": 1,
   "id": "daedb388",
   "metadata": {},
   "outputs": [],
   "source": [
    "import pandas as pd\n",
    "import numpy as np\n",
    "\n",
    "# To embed pics by decoding base64 data\n",
    "from IPython import display\n",
    "from base64 import b64decode"
   ]
  },
  {
   "cell_type": "code",
   "execution_count": 2,
   "id": "249e2533",
   "metadata": {},
   "outputs": [],
   "source": [
    "data_path_file='DelayedFlights.csv'"
   ]
  },
  {
   "cell_type": "code",
   "execution_count": 3,
   "id": "f2882846",
   "metadata": {},
   "outputs": [],
   "source": [
    "flights_data=pd.read_csv(data_path_file)"
   ]
  },
  {
   "cell_type": "markdown",
   "id": "5dd9e99b",
   "metadata": {},
   "source": [
    "Observamos los datos contenidos en el DataFrame"
   ]
  },
  {
   "cell_type": "code",
   "execution_count": 4,
   "id": "e9b1a38a",
   "metadata": {},
   "outputs": [
    {
     "name": "stdout",
     "output_type": "stream",
     "text": [
      "<class 'pandas.core.frame.DataFrame'>\n",
      "RangeIndex: 1936758 entries, 0 to 1936757\n",
      "Data columns (total 30 columns):\n",
      " #   Column             Dtype  \n",
      "---  ------             -----  \n",
      " 0   Unnamed: 0         int64  \n",
      " 1   Year               int64  \n",
      " 2   Month              int64  \n",
      " 3   DayofMonth         int64  \n",
      " 4   DayOfWeek          int64  \n",
      " 5   DepTime            float64\n",
      " 6   CRSDepTime         int64  \n",
      " 7   ArrTime            float64\n",
      " 8   CRSArrTime         int64  \n",
      " 9   UniqueCarrier      object \n",
      " 10  FlightNum          int64  \n",
      " 11  TailNum            object \n",
      " 12  ActualElapsedTime  float64\n",
      " 13  CRSElapsedTime     float64\n",
      " 14  AirTime            float64\n",
      " 15  ArrDelay           float64\n",
      " 16  DepDelay           float64\n",
      " 17  Origin             object \n",
      " 18  Dest               object \n",
      " 19  Distance           int64  \n",
      " 20  TaxiIn             float64\n",
      " 21  TaxiOut            float64\n",
      " 22  Cancelled          int64  \n",
      " 23  CancellationCode   object \n",
      " 24  Diverted           int64  \n",
      " 25  CarrierDelay       float64\n",
      " 26  WeatherDelay       float64\n",
      " 27  NASDelay           float64\n",
      " 28  SecurityDelay      float64\n",
      " 29  LateAircraftDelay  float64\n",
      "dtypes: float64(14), int64(11), object(5)\n",
      "memory usage: 443.3+ MB\n"
     ]
    }
   ],
   "source": [
    "flights_data.info()"
   ]
  },
  {
   "cell_type": "code",
   "execution_count": 5,
   "id": "eff6b7c2",
   "metadata": {},
   "outputs": [
    {
     "data": {
      "text/html": [
       "<div>\n",
       "<style scoped>\n",
       "    .dataframe tbody tr th:only-of-type {\n",
       "        vertical-align: middle;\n",
       "    }\n",
       "\n",
       "    .dataframe tbody tr th {\n",
       "        vertical-align: top;\n",
       "    }\n",
       "\n",
       "    .dataframe thead th {\n",
       "        text-align: right;\n",
       "    }\n",
       "</style>\n",
       "<table border=\"1\" class=\"dataframe\">\n",
       "  <thead>\n",
       "    <tr style=\"text-align: right;\">\n",
       "      <th></th>\n",
       "      <th>Unnamed: 0</th>\n",
       "      <th>Year</th>\n",
       "      <th>Month</th>\n",
       "      <th>DayofMonth</th>\n",
       "      <th>DayOfWeek</th>\n",
       "      <th>DepTime</th>\n",
       "      <th>CRSDepTime</th>\n",
       "      <th>ArrTime</th>\n",
       "      <th>CRSArrTime</th>\n",
       "      <th>FlightNum</th>\n",
       "      <th>...</th>\n",
       "      <th>Distance</th>\n",
       "      <th>TaxiIn</th>\n",
       "      <th>TaxiOut</th>\n",
       "      <th>Cancelled</th>\n",
       "      <th>Diverted</th>\n",
       "      <th>CarrierDelay</th>\n",
       "      <th>WeatherDelay</th>\n",
       "      <th>NASDelay</th>\n",
       "      <th>SecurityDelay</th>\n",
       "      <th>LateAircraftDelay</th>\n",
       "    </tr>\n",
       "  </thead>\n",
       "  <tbody>\n",
       "    <tr>\n",
       "      <th>count</th>\n",
       "      <td>1.936758e+06</td>\n",
       "      <td>1936758.0</td>\n",
       "      <td>1.936758e+06</td>\n",
       "      <td>1.936758e+06</td>\n",
       "      <td>1.936758e+06</td>\n",
       "      <td>1.936758e+06</td>\n",
       "      <td>1.936758e+06</td>\n",
       "      <td>1.929648e+06</td>\n",
       "      <td>1.936758e+06</td>\n",
       "      <td>1.936758e+06</td>\n",
       "      <td>...</td>\n",
       "      <td>1.936758e+06</td>\n",
       "      <td>1.929648e+06</td>\n",
       "      <td>1.936303e+06</td>\n",
       "      <td>1.936758e+06</td>\n",
       "      <td>1.936758e+06</td>\n",
       "      <td>1.247488e+06</td>\n",
       "      <td>1.247488e+06</td>\n",
       "      <td>1.247488e+06</td>\n",
       "      <td>1.247488e+06</td>\n",
       "      <td>1.247488e+06</td>\n",
       "    </tr>\n",
       "    <tr>\n",
       "      <th>mean</th>\n",
       "      <td>3.341651e+06</td>\n",
       "      <td>2008.0</td>\n",
       "      <td>6.111106e+00</td>\n",
       "      <td>1.575347e+01</td>\n",
       "      <td>3.984827e+00</td>\n",
       "      <td>1.518534e+03</td>\n",
       "      <td>1.467473e+03</td>\n",
       "      <td>1.610141e+03</td>\n",
       "      <td>1.634225e+03</td>\n",
       "      <td>2.184263e+03</td>\n",
       "      <td>...</td>\n",
       "      <td>7.656862e+02</td>\n",
       "      <td>6.812975e+00</td>\n",
       "      <td>1.823220e+01</td>\n",
       "      <td>3.268348e-04</td>\n",
       "      <td>4.003598e-03</td>\n",
       "      <td>1.917940e+01</td>\n",
       "      <td>3.703571e+00</td>\n",
       "      <td>1.502164e+01</td>\n",
       "      <td>9.013714e-02</td>\n",
       "      <td>2.529647e+01</td>\n",
       "    </tr>\n",
       "    <tr>\n",
       "      <th>std</th>\n",
       "      <td>2.066065e+06</td>\n",
       "      <td>0.0</td>\n",
       "      <td>3.482546e+00</td>\n",
       "      <td>8.776272e+00</td>\n",
       "      <td>1.995966e+00</td>\n",
       "      <td>4.504853e+02</td>\n",
       "      <td>4.247668e+02</td>\n",
       "      <td>5.481781e+02</td>\n",
       "      <td>4.646347e+02</td>\n",
       "      <td>1.944702e+03</td>\n",
       "      <td>...</td>\n",
       "      <td>5.744797e+02</td>\n",
       "      <td>5.273595e+00</td>\n",
       "      <td>1.433853e+01</td>\n",
       "      <td>1.807562e-02</td>\n",
       "      <td>6.314722e-02</td>\n",
       "      <td>4.354621e+01</td>\n",
       "      <td>2.149290e+01</td>\n",
       "      <td>3.383305e+01</td>\n",
       "      <td>2.022714e+00</td>\n",
       "      <td>4.205486e+01</td>\n",
       "    </tr>\n",
       "    <tr>\n",
       "      <th>min</th>\n",
       "      <td>0.000000e+00</td>\n",
       "      <td>2008.0</td>\n",
       "      <td>1.000000e+00</td>\n",
       "      <td>1.000000e+00</td>\n",
       "      <td>1.000000e+00</td>\n",
       "      <td>1.000000e+00</td>\n",
       "      <td>0.000000e+00</td>\n",
       "      <td>1.000000e+00</td>\n",
       "      <td>0.000000e+00</td>\n",
       "      <td>1.000000e+00</td>\n",
       "      <td>...</td>\n",
       "      <td>1.100000e+01</td>\n",
       "      <td>0.000000e+00</td>\n",
       "      <td>0.000000e+00</td>\n",
       "      <td>0.000000e+00</td>\n",
       "      <td>0.000000e+00</td>\n",
       "      <td>0.000000e+00</td>\n",
       "      <td>0.000000e+00</td>\n",
       "      <td>0.000000e+00</td>\n",
       "      <td>0.000000e+00</td>\n",
       "      <td>0.000000e+00</td>\n",
       "    </tr>\n",
       "    <tr>\n",
       "      <th>25%</th>\n",
       "      <td>1.517452e+06</td>\n",
       "      <td>2008.0</td>\n",
       "      <td>3.000000e+00</td>\n",
       "      <td>8.000000e+00</td>\n",
       "      <td>2.000000e+00</td>\n",
       "      <td>1.203000e+03</td>\n",
       "      <td>1.135000e+03</td>\n",
       "      <td>1.316000e+03</td>\n",
       "      <td>1.325000e+03</td>\n",
       "      <td>6.100000e+02</td>\n",
       "      <td>...</td>\n",
       "      <td>3.380000e+02</td>\n",
       "      <td>4.000000e+00</td>\n",
       "      <td>1.000000e+01</td>\n",
       "      <td>0.000000e+00</td>\n",
       "      <td>0.000000e+00</td>\n",
       "      <td>0.000000e+00</td>\n",
       "      <td>0.000000e+00</td>\n",
       "      <td>0.000000e+00</td>\n",
       "      <td>0.000000e+00</td>\n",
       "      <td>0.000000e+00</td>\n",
       "    </tr>\n",
       "    <tr>\n",
       "      <th>50%</th>\n",
       "      <td>3.242558e+06</td>\n",
       "      <td>2008.0</td>\n",
       "      <td>6.000000e+00</td>\n",
       "      <td>1.600000e+01</td>\n",
       "      <td>4.000000e+00</td>\n",
       "      <td>1.545000e+03</td>\n",
       "      <td>1.510000e+03</td>\n",
       "      <td>1.715000e+03</td>\n",
       "      <td>1.705000e+03</td>\n",
       "      <td>1.543000e+03</td>\n",
       "      <td>...</td>\n",
       "      <td>6.060000e+02</td>\n",
       "      <td>6.000000e+00</td>\n",
       "      <td>1.400000e+01</td>\n",
       "      <td>0.000000e+00</td>\n",
       "      <td>0.000000e+00</td>\n",
       "      <td>2.000000e+00</td>\n",
       "      <td>0.000000e+00</td>\n",
       "      <td>2.000000e+00</td>\n",
       "      <td>0.000000e+00</td>\n",
       "      <td>8.000000e+00</td>\n",
       "    </tr>\n",
       "    <tr>\n",
       "      <th>75%</th>\n",
       "      <td>4.972467e+06</td>\n",
       "      <td>2008.0</td>\n",
       "      <td>9.000000e+00</td>\n",
       "      <td>2.300000e+01</td>\n",
       "      <td>6.000000e+00</td>\n",
       "      <td>1.900000e+03</td>\n",
       "      <td>1.815000e+03</td>\n",
       "      <td>2.030000e+03</td>\n",
       "      <td>2.014000e+03</td>\n",
       "      <td>3.422000e+03</td>\n",
       "      <td>...</td>\n",
       "      <td>9.980000e+02</td>\n",
       "      <td>8.000000e+00</td>\n",
       "      <td>2.100000e+01</td>\n",
       "      <td>0.000000e+00</td>\n",
       "      <td>0.000000e+00</td>\n",
       "      <td>2.100000e+01</td>\n",
       "      <td>0.000000e+00</td>\n",
       "      <td>1.500000e+01</td>\n",
       "      <td>0.000000e+00</td>\n",
       "      <td>3.300000e+01</td>\n",
       "    </tr>\n",
       "    <tr>\n",
       "      <th>max</th>\n",
       "      <td>7.009727e+06</td>\n",
       "      <td>2008.0</td>\n",
       "      <td>1.200000e+01</td>\n",
       "      <td>3.100000e+01</td>\n",
       "      <td>7.000000e+00</td>\n",
       "      <td>2.400000e+03</td>\n",
       "      <td>2.359000e+03</td>\n",
       "      <td>2.400000e+03</td>\n",
       "      <td>2.400000e+03</td>\n",
       "      <td>9.742000e+03</td>\n",
       "      <td>...</td>\n",
       "      <td>4.962000e+03</td>\n",
       "      <td>2.400000e+02</td>\n",
       "      <td>4.220000e+02</td>\n",
       "      <td>1.000000e+00</td>\n",
       "      <td>1.000000e+00</td>\n",
       "      <td>2.436000e+03</td>\n",
       "      <td>1.352000e+03</td>\n",
       "      <td>1.357000e+03</td>\n",
       "      <td>3.920000e+02</td>\n",
       "      <td>1.316000e+03</td>\n",
       "    </tr>\n",
       "  </tbody>\n",
       "</table>\n",
       "<p>8 rows × 25 columns</p>\n",
       "</div>"
      ],
      "text/plain": [
       "         Unnamed: 0       Year         Month    DayofMonth     DayOfWeek  \\\n",
       "count  1.936758e+06  1936758.0  1.936758e+06  1.936758e+06  1.936758e+06   \n",
       "mean   3.341651e+06     2008.0  6.111106e+00  1.575347e+01  3.984827e+00   \n",
       "std    2.066065e+06        0.0  3.482546e+00  8.776272e+00  1.995966e+00   \n",
       "min    0.000000e+00     2008.0  1.000000e+00  1.000000e+00  1.000000e+00   \n",
       "25%    1.517452e+06     2008.0  3.000000e+00  8.000000e+00  2.000000e+00   \n",
       "50%    3.242558e+06     2008.0  6.000000e+00  1.600000e+01  4.000000e+00   \n",
       "75%    4.972467e+06     2008.0  9.000000e+00  2.300000e+01  6.000000e+00   \n",
       "max    7.009727e+06     2008.0  1.200000e+01  3.100000e+01  7.000000e+00   \n",
       "\n",
       "            DepTime    CRSDepTime       ArrTime    CRSArrTime     FlightNum  \\\n",
       "count  1.936758e+06  1.936758e+06  1.929648e+06  1.936758e+06  1.936758e+06   \n",
       "mean   1.518534e+03  1.467473e+03  1.610141e+03  1.634225e+03  2.184263e+03   \n",
       "std    4.504853e+02  4.247668e+02  5.481781e+02  4.646347e+02  1.944702e+03   \n",
       "min    1.000000e+00  0.000000e+00  1.000000e+00  0.000000e+00  1.000000e+00   \n",
       "25%    1.203000e+03  1.135000e+03  1.316000e+03  1.325000e+03  6.100000e+02   \n",
       "50%    1.545000e+03  1.510000e+03  1.715000e+03  1.705000e+03  1.543000e+03   \n",
       "75%    1.900000e+03  1.815000e+03  2.030000e+03  2.014000e+03  3.422000e+03   \n",
       "max    2.400000e+03  2.359000e+03  2.400000e+03  2.400000e+03  9.742000e+03   \n",
       "\n",
       "       ...      Distance        TaxiIn       TaxiOut     Cancelled  \\\n",
       "count  ...  1.936758e+06  1.929648e+06  1.936303e+06  1.936758e+06   \n",
       "mean   ...  7.656862e+02  6.812975e+00  1.823220e+01  3.268348e-04   \n",
       "std    ...  5.744797e+02  5.273595e+00  1.433853e+01  1.807562e-02   \n",
       "min    ...  1.100000e+01  0.000000e+00  0.000000e+00  0.000000e+00   \n",
       "25%    ...  3.380000e+02  4.000000e+00  1.000000e+01  0.000000e+00   \n",
       "50%    ...  6.060000e+02  6.000000e+00  1.400000e+01  0.000000e+00   \n",
       "75%    ...  9.980000e+02  8.000000e+00  2.100000e+01  0.000000e+00   \n",
       "max    ...  4.962000e+03  2.400000e+02  4.220000e+02  1.000000e+00   \n",
       "\n",
       "           Diverted  CarrierDelay  WeatherDelay      NASDelay  SecurityDelay  \\\n",
       "count  1.936758e+06  1.247488e+06  1.247488e+06  1.247488e+06   1.247488e+06   \n",
       "mean   4.003598e-03  1.917940e+01  3.703571e+00  1.502164e+01   9.013714e-02   \n",
       "std    6.314722e-02  4.354621e+01  2.149290e+01  3.383305e+01   2.022714e+00   \n",
       "min    0.000000e+00  0.000000e+00  0.000000e+00  0.000000e+00   0.000000e+00   \n",
       "25%    0.000000e+00  0.000000e+00  0.000000e+00  0.000000e+00   0.000000e+00   \n",
       "50%    0.000000e+00  2.000000e+00  0.000000e+00  2.000000e+00   0.000000e+00   \n",
       "75%    0.000000e+00  2.100000e+01  0.000000e+00  1.500000e+01   0.000000e+00   \n",
       "max    1.000000e+00  2.436000e+03  1.352000e+03  1.357000e+03   3.920000e+02   \n",
       "\n",
       "       LateAircraftDelay  \n",
       "count       1.247488e+06  \n",
       "mean        2.529647e+01  \n",
       "std         4.205486e+01  \n",
       "min         0.000000e+00  \n",
       "25%         0.000000e+00  \n",
       "50%         8.000000e+00  \n",
       "75%         3.300000e+01  \n",
       "max         1.316000e+03  \n",
       "\n",
       "[8 rows x 25 columns]"
      ]
     },
     "execution_count": 5,
     "metadata": {},
     "output_type": "execute_result"
    }
   ],
   "source": [
    "flights_data.describe()"
   ]
  },
  {
   "cell_type": "code",
   "execution_count": 6,
   "id": "304ecc43",
   "metadata": {},
   "outputs": [
    {
     "data": {
      "text/html": [
       "<div>\n",
       "<style scoped>\n",
       "    .dataframe tbody tr th:only-of-type {\n",
       "        vertical-align: middle;\n",
       "    }\n",
       "\n",
       "    .dataframe tbody tr th {\n",
       "        vertical-align: top;\n",
       "    }\n",
       "\n",
       "    .dataframe thead th {\n",
       "        text-align: right;\n",
       "    }\n",
       "</style>\n",
       "<table border=\"1\" class=\"dataframe\">\n",
       "  <thead>\n",
       "    <tr style=\"text-align: right;\">\n",
       "      <th></th>\n",
       "      <th>Unnamed: 0</th>\n",
       "      <th>Year</th>\n",
       "      <th>Month</th>\n",
       "      <th>DayofMonth</th>\n",
       "      <th>DayOfWeek</th>\n",
       "      <th>DepTime</th>\n",
       "      <th>CRSDepTime</th>\n",
       "      <th>ArrTime</th>\n",
       "      <th>CRSArrTime</th>\n",
       "      <th>UniqueCarrier</th>\n",
       "      <th>...</th>\n",
       "      <th>TaxiIn</th>\n",
       "      <th>TaxiOut</th>\n",
       "      <th>Cancelled</th>\n",
       "      <th>CancellationCode</th>\n",
       "      <th>Diverted</th>\n",
       "      <th>CarrierDelay</th>\n",
       "      <th>WeatherDelay</th>\n",
       "      <th>NASDelay</th>\n",
       "      <th>SecurityDelay</th>\n",
       "      <th>LateAircraftDelay</th>\n",
       "    </tr>\n",
       "  </thead>\n",
       "  <tbody>\n",
       "    <tr>\n",
       "      <th>0</th>\n",
       "      <td>0</td>\n",
       "      <td>2008</td>\n",
       "      <td>1</td>\n",
       "      <td>3</td>\n",
       "      <td>4</td>\n",
       "      <td>2003.0</td>\n",
       "      <td>1955</td>\n",
       "      <td>2211.0</td>\n",
       "      <td>2225</td>\n",
       "      <td>WN</td>\n",
       "      <td>...</td>\n",
       "      <td>4.0</td>\n",
       "      <td>8.0</td>\n",
       "      <td>0</td>\n",
       "      <td>N</td>\n",
       "      <td>0</td>\n",
       "      <td>NaN</td>\n",
       "      <td>NaN</td>\n",
       "      <td>NaN</td>\n",
       "      <td>NaN</td>\n",
       "      <td>NaN</td>\n",
       "    </tr>\n",
       "    <tr>\n",
       "      <th>1</th>\n",
       "      <td>1</td>\n",
       "      <td>2008</td>\n",
       "      <td>1</td>\n",
       "      <td>3</td>\n",
       "      <td>4</td>\n",
       "      <td>754.0</td>\n",
       "      <td>735</td>\n",
       "      <td>1002.0</td>\n",
       "      <td>1000</td>\n",
       "      <td>WN</td>\n",
       "      <td>...</td>\n",
       "      <td>5.0</td>\n",
       "      <td>10.0</td>\n",
       "      <td>0</td>\n",
       "      <td>N</td>\n",
       "      <td>0</td>\n",
       "      <td>NaN</td>\n",
       "      <td>NaN</td>\n",
       "      <td>NaN</td>\n",
       "      <td>NaN</td>\n",
       "      <td>NaN</td>\n",
       "    </tr>\n",
       "    <tr>\n",
       "      <th>2</th>\n",
       "      <td>2</td>\n",
       "      <td>2008</td>\n",
       "      <td>1</td>\n",
       "      <td>3</td>\n",
       "      <td>4</td>\n",
       "      <td>628.0</td>\n",
       "      <td>620</td>\n",
       "      <td>804.0</td>\n",
       "      <td>750</td>\n",
       "      <td>WN</td>\n",
       "      <td>...</td>\n",
       "      <td>3.0</td>\n",
       "      <td>17.0</td>\n",
       "      <td>0</td>\n",
       "      <td>N</td>\n",
       "      <td>0</td>\n",
       "      <td>NaN</td>\n",
       "      <td>NaN</td>\n",
       "      <td>NaN</td>\n",
       "      <td>NaN</td>\n",
       "      <td>NaN</td>\n",
       "    </tr>\n",
       "    <tr>\n",
       "      <th>3</th>\n",
       "      <td>4</td>\n",
       "      <td>2008</td>\n",
       "      <td>1</td>\n",
       "      <td>3</td>\n",
       "      <td>4</td>\n",
       "      <td>1829.0</td>\n",
       "      <td>1755</td>\n",
       "      <td>1959.0</td>\n",
       "      <td>1925</td>\n",
       "      <td>WN</td>\n",
       "      <td>...</td>\n",
       "      <td>3.0</td>\n",
       "      <td>10.0</td>\n",
       "      <td>0</td>\n",
       "      <td>N</td>\n",
       "      <td>0</td>\n",
       "      <td>2.0</td>\n",
       "      <td>0.0</td>\n",
       "      <td>0.0</td>\n",
       "      <td>0.0</td>\n",
       "      <td>32.0</td>\n",
       "    </tr>\n",
       "    <tr>\n",
       "      <th>4</th>\n",
       "      <td>5</td>\n",
       "      <td>2008</td>\n",
       "      <td>1</td>\n",
       "      <td>3</td>\n",
       "      <td>4</td>\n",
       "      <td>1940.0</td>\n",
       "      <td>1915</td>\n",
       "      <td>2121.0</td>\n",
       "      <td>2110</td>\n",
       "      <td>WN</td>\n",
       "      <td>...</td>\n",
       "      <td>4.0</td>\n",
       "      <td>10.0</td>\n",
       "      <td>0</td>\n",
       "      <td>N</td>\n",
       "      <td>0</td>\n",
       "      <td>NaN</td>\n",
       "      <td>NaN</td>\n",
       "      <td>NaN</td>\n",
       "      <td>NaN</td>\n",
       "      <td>NaN</td>\n",
       "    </tr>\n",
       "  </tbody>\n",
       "</table>\n",
       "<p>5 rows × 30 columns</p>\n",
       "</div>"
      ],
      "text/plain": [
       "   Unnamed: 0  Year  Month  DayofMonth  DayOfWeek  DepTime  CRSDepTime  \\\n",
       "0           0  2008      1           3          4   2003.0        1955   \n",
       "1           1  2008      1           3          4    754.0         735   \n",
       "2           2  2008      1           3          4    628.0         620   \n",
       "3           4  2008      1           3          4   1829.0        1755   \n",
       "4           5  2008      1           3          4   1940.0        1915   \n",
       "\n",
       "   ArrTime  CRSArrTime UniqueCarrier  ...  TaxiIn TaxiOut  Cancelled  \\\n",
       "0   2211.0        2225            WN  ...     4.0     8.0          0   \n",
       "1   1002.0        1000            WN  ...     5.0    10.0          0   \n",
       "2    804.0         750            WN  ...     3.0    17.0          0   \n",
       "3   1959.0        1925            WN  ...     3.0    10.0          0   \n",
       "4   2121.0        2110            WN  ...     4.0    10.0          0   \n",
       "\n",
       "   CancellationCode  Diverted  CarrierDelay  WeatherDelay NASDelay  \\\n",
       "0                 N         0           NaN           NaN      NaN   \n",
       "1                 N         0           NaN           NaN      NaN   \n",
       "2                 N         0           NaN           NaN      NaN   \n",
       "3                 N         0           2.0           0.0      0.0   \n",
       "4                 N         0           NaN           NaN      NaN   \n",
       "\n",
       "  SecurityDelay  LateAircraftDelay  \n",
       "0           NaN                NaN  \n",
       "1           NaN                NaN  \n",
       "2           NaN                NaN  \n",
       "3           0.0               32.0  \n",
       "4           NaN                NaN  \n",
       "\n",
       "[5 rows x 30 columns]"
      ]
     },
     "execution_count": 6,
     "metadata": {},
     "output_type": "execute_result"
    }
   ],
   "source": [
    "flights_data.head()"
   ]
  },
  {
   "cell_type": "markdown",
   "id": "5433c4fa",
   "metadata": {},
   "source": [
    "Obtenemos los nombres de las columnas de los datos."
   ]
  },
  {
   "cell_type": "code",
   "execution_count": 7,
   "id": "cb10c691",
   "metadata": {},
   "outputs": [
    {
     "data": {
      "text/plain": [
       "Index(['Unnamed: 0', 'Year', 'Month', 'DayofMonth', 'DayOfWeek', 'DepTime',\n",
       "       'CRSDepTime', 'ArrTime', 'CRSArrTime', 'UniqueCarrier', 'FlightNum',\n",
       "       'TailNum', 'ActualElapsedTime', 'CRSElapsedTime', 'AirTime', 'ArrDelay',\n",
       "       'DepDelay', 'Origin', 'Dest', 'Distance', 'TaxiIn', 'TaxiOut',\n",
       "       'Cancelled', 'CancellationCode', 'Diverted', 'CarrierDelay',\n",
       "       'WeatherDelay', 'NASDelay', 'SecurityDelay', 'LateAircraftDelay'],\n",
       "      dtype='object')"
      ]
     },
     "execution_count": 7,
     "metadata": {},
     "output_type": "execute_result"
    }
   ],
   "source": [
    "flights_data.columns"
   ]
  },
  {
   "cell_type": "markdown",
   "id": "64f5da14",
   "metadata": {},
   "source": [
    "Seleccionamos las columnas de interes"
   ]
  },
  {
   "cell_type": "code",
   "execution_count": 8,
   "id": "8eba7eb4",
   "metadata": {},
   "outputs": [],
   "source": [
    "features=['Month', 'DayOfWeek', 'DepTime', 'CRSDepTime', 'ArrTime', 'CRSArrTime', 'UniqueCarrier', 'ActualElapsedTime',\n",
    "          'CRSElapsedTime', 'AirTime', 'ArrDelay','DepDelay', 'Distance', 'Cancelled', 'Diverted']"
   ]
  },
  {
   "cell_type": "markdown",
   "id": "c00475cc",
   "metadata": {},
   "source": [
    "Seleccionamos solo los datos de las columnas de interes y lo guardamos en el DataFrame X"
   ]
  },
  {
   "cell_type": "code",
   "execution_count": 9,
   "id": "6b1fb861",
   "metadata": {},
   "outputs": [],
   "source": [
    "X= flights_data[features]"
   ]
  },
  {
   "cell_type": "markdown",
   "id": "68b89b75",
   "metadata": {},
   "source": [
    "## Ejercicio 2\n",
    "\n",
    "Informe completo del dataset\n",
    "\n",
    "-------------------------------------------"
   ]
  },
  {
   "cell_type": "markdown",
   "id": "27a6d8cd",
   "metadata": {},
   "source": [
    "* Obtenemos un resumen estadistico de los datos de las columnas de interés"
   ]
  },
  {
   "cell_type": "code",
   "execution_count": 10,
   "id": "1d703b81",
   "metadata": {},
   "outputs": [
    {
     "data": {
      "text/html": [
       "<div>\n",
       "<style scoped>\n",
       "    .dataframe tbody tr th:only-of-type {\n",
       "        vertical-align: middle;\n",
       "    }\n",
       "\n",
       "    .dataframe tbody tr th {\n",
       "        vertical-align: top;\n",
       "    }\n",
       "\n",
       "    .dataframe thead th {\n",
       "        text-align: right;\n",
       "    }\n",
       "</style>\n",
       "<table border=\"1\" class=\"dataframe\">\n",
       "  <thead>\n",
       "    <tr style=\"text-align: right;\">\n",
       "      <th></th>\n",
       "      <th>Month</th>\n",
       "      <th>DayOfWeek</th>\n",
       "      <th>DepTime</th>\n",
       "      <th>CRSDepTime</th>\n",
       "      <th>ArrTime</th>\n",
       "      <th>CRSArrTime</th>\n",
       "      <th>ActualElapsedTime</th>\n",
       "      <th>CRSElapsedTime</th>\n",
       "      <th>AirTime</th>\n",
       "      <th>ArrDelay</th>\n",
       "      <th>DepDelay</th>\n",
       "      <th>Distance</th>\n",
       "      <th>Cancelled</th>\n",
       "      <th>Diverted</th>\n",
       "    </tr>\n",
       "  </thead>\n",
       "  <tbody>\n",
       "    <tr>\n",
       "      <th>count</th>\n",
       "      <td>1.936758e+06</td>\n",
       "      <td>1.936758e+06</td>\n",
       "      <td>1.936758e+06</td>\n",
       "      <td>1.936758e+06</td>\n",
       "      <td>1.929648e+06</td>\n",
       "      <td>1.936758e+06</td>\n",
       "      <td>1.928371e+06</td>\n",
       "      <td>1.936560e+06</td>\n",
       "      <td>1.928371e+06</td>\n",
       "      <td>1.928371e+06</td>\n",
       "      <td>1.936758e+06</td>\n",
       "      <td>1.936758e+06</td>\n",
       "      <td>1.936758e+06</td>\n",
       "      <td>1.936758e+06</td>\n",
       "    </tr>\n",
       "    <tr>\n",
       "      <th>mean</th>\n",
       "      <td>6.111106e+00</td>\n",
       "      <td>3.984827e+00</td>\n",
       "      <td>1.518534e+03</td>\n",
       "      <td>1.467473e+03</td>\n",
       "      <td>1.610141e+03</td>\n",
       "      <td>1.634225e+03</td>\n",
       "      <td>1.333059e+02</td>\n",
       "      <td>1.343027e+02</td>\n",
       "      <td>1.082771e+02</td>\n",
       "      <td>4.219988e+01</td>\n",
       "      <td>4.318518e+01</td>\n",
       "      <td>7.656862e+02</td>\n",
       "      <td>3.268348e-04</td>\n",
       "      <td>4.003598e-03</td>\n",
       "    </tr>\n",
       "    <tr>\n",
       "      <th>std</th>\n",
       "      <td>3.482546e+00</td>\n",
       "      <td>1.995966e+00</td>\n",
       "      <td>4.504853e+02</td>\n",
       "      <td>4.247668e+02</td>\n",
       "      <td>5.481781e+02</td>\n",
       "      <td>4.646347e+02</td>\n",
       "      <td>7.206007e+01</td>\n",
       "      <td>7.134144e+01</td>\n",
       "      <td>6.864261e+01</td>\n",
       "      <td>5.678472e+01</td>\n",
       "      <td>5.340250e+01</td>\n",
       "      <td>5.744797e+02</td>\n",
       "      <td>1.807562e-02</td>\n",
       "      <td>6.314722e-02</td>\n",
       "    </tr>\n",
       "    <tr>\n",
       "      <th>min</th>\n",
       "      <td>1.000000e+00</td>\n",
       "      <td>1.000000e+00</td>\n",
       "      <td>1.000000e+00</td>\n",
       "      <td>0.000000e+00</td>\n",
       "      <td>1.000000e+00</td>\n",
       "      <td>0.000000e+00</td>\n",
       "      <td>1.400000e+01</td>\n",
       "      <td>-2.500000e+01</td>\n",
       "      <td>0.000000e+00</td>\n",
       "      <td>-1.090000e+02</td>\n",
       "      <td>6.000000e+00</td>\n",
       "      <td>1.100000e+01</td>\n",
       "      <td>0.000000e+00</td>\n",
       "      <td>0.000000e+00</td>\n",
       "    </tr>\n",
       "    <tr>\n",
       "      <th>25%</th>\n",
       "      <td>3.000000e+00</td>\n",
       "      <td>2.000000e+00</td>\n",
       "      <td>1.203000e+03</td>\n",
       "      <td>1.135000e+03</td>\n",
       "      <td>1.316000e+03</td>\n",
       "      <td>1.325000e+03</td>\n",
       "      <td>8.000000e+01</td>\n",
       "      <td>8.200000e+01</td>\n",
       "      <td>5.800000e+01</td>\n",
       "      <td>9.000000e+00</td>\n",
       "      <td>1.200000e+01</td>\n",
       "      <td>3.380000e+02</td>\n",
       "      <td>0.000000e+00</td>\n",
       "      <td>0.000000e+00</td>\n",
       "    </tr>\n",
       "    <tr>\n",
       "      <th>50%</th>\n",
       "      <td>6.000000e+00</td>\n",
       "      <td>4.000000e+00</td>\n",
       "      <td>1.545000e+03</td>\n",
       "      <td>1.510000e+03</td>\n",
       "      <td>1.715000e+03</td>\n",
       "      <td>1.705000e+03</td>\n",
       "      <td>1.160000e+02</td>\n",
       "      <td>1.160000e+02</td>\n",
       "      <td>9.000000e+01</td>\n",
       "      <td>2.400000e+01</td>\n",
       "      <td>2.400000e+01</td>\n",
       "      <td>6.060000e+02</td>\n",
       "      <td>0.000000e+00</td>\n",
       "      <td>0.000000e+00</td>\n",
       "    </tr>\n",
       "    <tr>\n",
       "      <th>75%</th>\n",
       "      <td>9.000000e+00</td>\n",
       "      <td>6.000000e+00</td>\n",
       "      <td>1.900000e+03</td>\n",
       "      <td>1.815000e+03</td>\n",
       "      <td>2.030000e+03</td>\n",
       "      <td>2.014000e+03</td>\n",
       "      <td>1.650000e+02</td>\n",
       "      <td>1.650000e+02</td>\n",
       "      <td>1.370000e+02</td>\n",
       "      <td>5.600000e+01</td>\n",
       "      <td>5.300000e+01</td>\n",
       "      <td>9.980000e+02</td>\n",
       "      <td>0.000000e+00</td>\n",
       "      <td>0.000000e+00</td>\n",
       "    </tr>\n",
       "    <tr>\n",
       "      <th>max</th>\n",
       "      <td>1.200000e+01</td>\n",
       "      <td>7.000000e+00</td>\n",
       "      <td>2.400000e+03</td>\n",
       "      <td>2.359000e+03</td>\n",
       "      <td>2.400000e+03</td>\n",
       "      <td>2.400000e+03</td>\n",
       "      <td>1.114000e+03</td>\n",
       "      <td>6.600000e+02</td>\n",
       "      <td>1.091000e+03</td>\n",
       "      <td>2.461000e+03</td>\n",
       "      <td>2.467000e+03</td>\n",
       "      <td>4.962000e+03</td>\n",
       "      <td>1.000000e+00</td>\n",
       "      <td>1.000000e+00</td>\n",
       "    </tr>\n",
       "  </tbody>\n",
       "</table>\n",
       "</div>"
      ],
      "text/plain": [
       "              Month     DayOfWeek       DepTime    CRSDepTime       ArrTime  \\\n",
       "count  1.936758e+06  1.936758e+06  1.936758e+06  1.936758e+06  1.929648e+06   \n",
       "mean   6.111106e+00  3.984827e+00  1.518534e+03  1.467473e+03  1.610141e+03   \n",
       "std    3.482546e+00  1.995966e+00  4.504853e+02  4.247668e+02  5.481781e+02   \n",
       "min    1.000000e+00  1.000000e+00  1.000000e+00  0.000000e+00  1.000000e+00   \n",
       "25%    3.000000e+00  2.000000e+00  1.203000e+03  1.135000e+03  1.316000e+03   \n",
       "50%    6.000000e+00  4.000000e+00  1.545000e+03  1.510000e+03  1.715000e+03   \n",
       "75%    9.000000e+00  6.000000e+00  1.900000e+03  1.815000e+03  2.030000e+03   \n",
       "max    1.200000e+01  7.000000e+00  2.400000e+03  2.359000e+03  2.400000e+03   \n",
       "\n",
       "         CRSArrTime  ActualElapsedTime  CRSElapsedTime       AirTime  \\\n",
       "count  1.936758e+06       1.928371e+06    1.936560e+06  1.928371e+06   \n",
       "mean   1.634225e+03       1.333059e+02    1.343027e+02  1.082771e+02   \n",
       "std    4.646347e+02       7.206007e+01    7.134144e+01  6.864261e+01   \n",
       "min    0.000000e+00       1.400000e+01   -2.500000e+01  0.000000e+00   \n",
       "25%    1.325000e+03       8.000000e+01    8.200000e+01  5.800000e+01   \n",
       "50%    1.705000e+03       1.160000e+02    1.160000e+02  9.000000e+01   \n",
       "75%    2.014000e+03       1.650000e+02    1.650000e+02  1.370000e+02   \n",
       "max    2.400000e+03       1.114000e+03    6.600000e+02  1.091000e+03   \n",
       "\n",
       "           ArrDelay      DepDelay      Distance     Cancelled      Diverted  \n",
       "count  1.928371e+06  1.936758e+06  1.936758e+06  1.936758e+06  1.936758e+06  \n",
       "mean   4.219988e+01  4.318518e+01  7.656862e+02  3.268348e-04  4.003598e-03  \n",
       "std    5.678472e+01  5.340250e+01  5.744797e+02  1.807562e-02  6.314722e-02  \n",
       "min   -1.090000e+02  6.000000e+00  1.100000e+01  0.000000e+00  0.000000e+00  \n",
       "25%    9.000000e+00  1.200000e+01  3.380000e+02  0.000000e+00  0.000000e+00  \n",
       "50%    2.400000e+01  2.400000e+01  6.060000e+02  0.000000e+00  0.000000e+00  \n",
       "75%    5.600000e+01  5.300000e+01  9.980000e+02  0.000000e+00  0.000000e+00  \n",
       "max    2.461000e+03  2.467000e+03  4.962000e+03  1.000000e+00  1.000000e+00  "
      ]
     },
     "execution_count": 10,
     "metadata": {},
     "output_type": "execute_result"
    }
   ],
   "source": [
    "X.describe()"
   ]
  },
  {
   "cell_type": "markdown",
   "id": "14e648d3",
   "metadata": {},
   "source": [
    "Vemos los primeros 10 valores"
   ]
  },
  {
   "cell_type": "code",
   "execution_count": 11,
   "id": "a3ddf291",
   "metadata": {},
   "outputs": [
    {
     "data": {
      "text/html": [
       "<div>\n",
       "<style scoped>\n",
       "    .dataframe tbody tr th:only-of-type {\n",
       "        vertical-align: middle;\n",
       "    }\n",
       "\n",
       "    .dataframe tbody tr th {\n",
       "        vertical-align: top;\n",
       "    }\n",
       "\n",
       "    .dataframe thead th {\n",
       "        text-align: right;\n",
       "    }\n",
       "</style>\n",
       "<table border=\"1\" class=\"dataframe\">\n",
       "  <thead>\n",
       "    <tr style=\"text-align: right;\">\n",
       "      <th></th>\n",
       "      <th>Month</th>\n",
       "      <th>DayOfWeek</th>\n",
       "      <th>DepTime</th>\n",
       "      <th>CRSDepTime</th>\n",
       "      <th>ArrTime</th>\n",
       "      <th>CRSArrTime</th>\n",
       "      <th>UniqueCarrier</th>\n",
       "      <th>ActualElapsedTime</th>\n",
       "      <th>CRSElapsedTime</th>\n",
       "      <th>AirTime</th>\n",
       "      <th>ArrDelay</th>\n",
       "      <th>DepDelay</th>\n",
       "      <th>Distance</th>\n",
       "      <th>Cancelled</th>\n",
       "      <th>Diverted</th>\n",
       "    </tr>\n",
       "  </thead>\n",
       "  <tbody>\n",
       "    <tr>\n",
       "      <th>0</th>\n",
       "      <td>1</td>\n",
       "      <td>4</td>\n",
       "      <td>2003.0</td>\n",
       "      <td>1955</td>\n",
       "      <td>2211.0</td>\n",
       "      <td>2225</td>\n",
       "      <td>WN</td>\n",
       "      <td>128.0</td>\n",
       "      <td>150.0</td>\n",
       "      <td>116.0</td>\n",
       "      <td>-14.0</td>\n",
       "      <td>8.0</td>\n",
       "      <td>810</td>\n",
       "      <td>0</td>\n",
       "      <td>0</td>\n",
       "    </tr>\n",
       "    <tr>\n",
       "      <th>1</th>\n",
       "      <td>1</td>\n",
       "      <td>4</td>\n",
       "      <td>754.0</td>\n",
       "      <td>735</td>\n",
       "      <td>1002.0</td>\n",
       "      <td>1000</td>\n",
       "      <td>WN</td>\n",
       "      <td>128.0</td>\n",
       "      <td>145.0</td>\n",
       "      <td>113.0</td>\n",
       "      <td>2.0</td>\n",
       "      <td>19.0</td>\n",
       "      <td>810</td>\n",
       "      <td>0</td>\n",
       "      <td>0</td>\n",
       "    </tr>\n",
       "    <tr>\n",
       "      <th>2</th>\n",
       "      <td>1</td>\n",
       "      <td>4</td>\n",
       "      <td>628.0</td>\n",
       "      <td>620</td>\n",
       "      <td>804.0</td>\n",
       "      <td>750</td>\n",
       "      <td>WN</td>\n",
       "      <td>96.0</td>\n",
       "      <td>90.0</td>\n",
       "      <td>76.0</td>\n",
       "      <td>14.0</td>\n",
       "      <td>8.0</td>\n",
       "      <td>515</td>\n",
       "      <td>0</td>\n",
       "      <td>0</td>\n",
       "    </tr>\n",
       "    <tr>\n",
       "      <th>3</th>\n",
       "      <td>1</td>\n",
       "      <td>4</td>\n",
       "      <td>1829.0</td>\n",
       "      <td>1755</td>\n",
       "      <td>1959.0</td>\n",
       "      <td>1925</td>\n",
       "      <td>WN</td>\n",
       "      <td>90.0</td>\n",
       "      <td>90.0</td>\n",
       "      <td>77.0</td>\n",
       "      <td>34.0</td>\n",
       "      <td>34.0</td>\n",
       "      <td>515</td>\n",
       "      <td>0</td>\n",
       "      <td>0</td>\n",
       "    </tr>\n",
       "    <tr>\n",
       "      <th>4</th>\n",
       "      <td>1</td>\n",
       "      <td>4</td>\n",
       "      <td>1940.0</td>\n",
       "      <td>1915</td>\n",
       "      <td>2121.0</td>\n",
       "      <td>2110</td>\n",
       "      <td>WN</td>\n",
       "      <td>101.0</td>\n",
       "      <td>115.0</td>\n",
       "      <td>87.0</td>\n",
       "      <td>11.0</td>\n",
       "      <td>25.0</td>\n",
       "      <td>688</td>\n",
       "      <td>0</td>\n",
       "      <td>0</td>\n",
       "    </tr>\n",
       "    <tr>\n",
       "      <th>5</th>\n",
       "      <td>1</td>\n",
       "      <td>4</td>\n",
       "      <td>1937.0</td>\n",
       "      <td>1830</td>\n",
       "      <td>2037.0</td>\n",
       "      <td>1940</td>\n",
       "      <td>WN</td>\n",
       "      <td>240.0</td>\n",
       "      <td>250.0</td>\n",
       "      <td>230.0</td>\n",
       "      <td>57.0</td>\n",
       "      <td>67.0</td>\n",
       "      <td>1591</td>\n",
       "      <td>0</td>\n",
       "      <td>0</td>\n",
       "    </tr>\n",
       "    <tr>\n",
       "      <th>6</th>\n",
       "      <td>1</td>\n",
       "      <td>4</td>\n",
       "      <td>706.0</td>\n",
       "      <td>700</td>\n",
       "      <td>916.0</td>\n",
       "      <td>915</td>\n",
       "      <td>WN</td>\n",
       "      <td>130.0</td>\n",
       "      <td>135.0</td>\n",
       "      <td>106.0</td>\n",
       "      <td>1.0</td>\n",
       "      <td>6.0</td>\n",
       "      <td>828</td>\n",
       "      <td>0</td>\n",
       "      <td>0</td>\n",
       "    </tr>\n",
       "    <tr>\n",
       "      <th>7</th>\n",
       "      <td>1</td>\n",
       "      <td>4</td>\n",
       "      <td>1644.0</td>\n",
       "      <td>1510</td>\n",
       "      <td>1845.0</td>\n",
       "      <td>1725</td>\n",
       "      <td>WN</td>\n",
       "      <td>121.0</td>\n",
       "      <td>135.0</td>\n",
       "      <td>107.0</td>\n",
       "      <td>80.0</td>\n",
       "      <td>94.0</td>\n",
       "      <td>828</td>\n",
       "      <td>0</td>\n",
       "      <td>0</td>\n",
       "    </tr>\n",
       "    <tr>\n",
       "      <th>8</th>\n",
       "      <td>1</td>\n",
       "      <td>4</td>\n",
       "      <td>1029.0</td>\n",
       "      <td>1020</td>\n",
       "      <td>1021.0</td>\n",
       "      <td>1010</td>\n",
       "      <td>WN</td>\n",
       "      <td>52.0</td>\n",
       "      <td>50.0</td>\n",
       "      <td>37.0</td>\n",
       "      <td>11.0</td>\n",
       "      <td>9.0</td>\n",
       "      <td>162</td>\n",
       "      <td>0</td>\n",
       "      <td>0</td>\n",
       "    </tr>\n",
       "    <tr>\n",
       "      <th>9</th>\n",
       "      <td>1</td>\n",
       "      <td>4</td>\n",
       "      <td>1452.0</td>\n",
       "      <td>1425</td>\n",
       "      <td>1640.0</td>\n",
       "      <td>1625</td>\n",
       "      <td>WN</td>\n",
       "      <td>228.0</td>\n",
       "      <td>240.0</td>\n",
       "      <td>213.0</td>\n",
       "      <td>15.0</td>\n",
       "      <td>27.0</td>\n",
       "      <td>1489</td>\n",
       "      <td>0</td>\n",
       "      <td>0</td>\n",
       "    </tr>\n",
       "  </tbody>\n",
       "</table>\n",
       "</div>"
      ],
      "text/plain": [
       "   Month  DayOfWeek  DepTime  CRSDepTime  ArrTime  CRSArrTime UniqueCarrier  \\\n",
       "0      1          4   2003.0        1955   2211.0        2225            WN   \n",
       "1      1          4    754.0         735   1002.0        1000            WN   \n",
       "2      1          4    628.0         620    804.0         750            WN   \n",
       "3      1          4   1829.0        1755   1959.0        1925            WN   \n",
       "4      1          4   1940.0        1915   2121.0        2110            WN   \n",
       "5      1          4   1937.0        1830   2037.0        1940            WN   \n",
       "6      1          4    706.0         700    916.0         915            WN   \n",
       "7      1          4   1644.0        1510   1845.0        1725            WN   \n",
       "8      1          4   1029.0        1020   1021.0        1010            WN   \n",
       "9      1          4   1452.0        1425   1640.0        1625            WN   \n",
       "\n",
       "   ActualElapsedTime  CRSElapsedTime  AirTime  ArrDelay  DepDelay  Distance  \\\n",
       "0              128.0           150.0    116.0     -14.0       8.0       810   \n",
       "1              128.0           145.0    113.0       2.0      19.0       810   \n",
       "2               96.0            90.0     76.0      14.0       8.0       515   \n",
       "3               90.0            90.0     77.0      34.0      34.0       515   \n",
       "4              101.0           115.0     87.0      11.0      25.0       688   \n",
       "5              240.0           250.0    230.0      57.0      67.0      1591   \n",
       "6              130.0           135.0    106.0       1.0       6.0       828   \n",
       "7              121.0           135.0    107.0      80.0      94.0       828   \n",
       "8               52.0            50.0     37.0      11.0       9.0       162   \n",
       "9              228.0           240.0    213.0      15.0      27.0      1489   \n",
       "\n",
       "   Cancelled  Diverted  \n",
       "0          0         0  \n",
       "1          0         0  \n",
       "2          0         0  \n",
       "3          0         0  \n",
       "4          0         0  \n",
       "5          0         0  \n",
       "6          0         0  \n",
       "7          0         0  \n",
       "8          0         0  \n",
       "9          0         0  "
      ]
     },
     "execution_count": 11,
     "metadata": {},
     "output_type": "execute_result"
    }
   ],
   "source": [
    "X.head(10)"
   ]
  },
  {
   "cell_type": "markdown",
   "id": "69200e9c",
   "metadata": {},
   "source": [
    " Comprobamos el numero de vuelos del dataframe. Se dispone de 1,936,758 vuelos y 15 caracteristicas seleccionadas"
   ]
  },
  {
   "cell_type": "code",
   "execution_count": 12,
   "id": "55acc6f2",
   "metadata": {},
   "outputs": [
    {
     "data": {
      "text/plain": [
       "(1936758, 15)"
      ]
     },
     "execution_count": 12,
     "metadata": {},
     "output_type": "execute_result"
    }
   ],
   "source": [
    "X.shape"
   ]
  },
  {
   "cell_type": "markdown",
   "id": "f61aa008",
   "metadata": {},
   "source": [
    "* Visualizaremos una matriz de graficos bivariantes de las variables numericas continuas."
   ]
  },
  {
   "cell_type": "markdown",
   "id": "9fb1572a",
   "metadata": {},
   "source": [
    "![cont_biplot](./pics/cont_feat_plot_red.png)"
   ]
  },
  {
   "cell_type": "markdown",
   "id": "f29d3892",
   "metadata": {},
   "source": [
    "* Calculamos el numero de Missing Values del Dataframe por columna."
   ]
  },
  {
   "cell_type": "code",
   "execution_count": 13,
   "id": "e9f6775b",
   "metadata": {},
   "outputs": [
    {
     "name": "stdout",
     "output_type": "stream",
     "text": [
      "Missing values by column:\n"
     ]
    },
    {
     "data": {
      "text/plain": [
       "Month                   0\n",
       "DayOfWeek               0\n",
       "DepTime                 0\n",
       "CRSDepTime              0\n",
       "ArrTime              7110\n",
       "CRSArrTime              0\n",
       "UniqueCarrier           0\n",
       "ActualElapsedTime    8387\n",
       "CRSElapsedTime        198\n",
       "AirTime              8387\n",
       "ArrDelay             8387\n",
       "DepDelay                0\n",
       "Distance                0\n",
       "Cancelled               0\n",
       "Diverted                0\n",
       "dtype: int64"
      ]
     },
     "execution_count": 13,
     "metadata": {},
     "output_type": "execute_result"
    }
   ],
   "source": [
    "print('Missing values by column:')\n",
    "1936758-X.count()"
   ]
  },
  {
   "cell_type": "code",
   "execution_count": 14,
   "id": "6756e937",
   "metadata": {},
   "outputs": [
    {
     "data": {
      "text/plain": [
       "Month                   0\n",
       "DayOfWeek               0\n",
       "DepTime                 0\n",
       "CRSDepTime              0\n",
       "ArrTime              7110\n",
       "CRSArrTime              0\n",
       "UniqueCarrier           0\n",
       "ActualElapsedTime    8387\n",
       "CRSElapsedTime        198\n",
       "AirTime              8387\n",
       "ArrDelay             8387\n",
       "DepDelay                0\n",
       "Distance                0\n",
       "Cancelled               0\n",
       "Diverted                0\n",
       "dtype: int64"
      ]
     },
     "execution_count": 14,
     "metadata": {},
     "output_type": "execute_result"
    }
   ],
   "source": [
    "X.isnull().sum()"
   ]
  },
  {
   "cell_type": "markdown",
   "id": "de33a5a3",
   "metadata": {},
   "source": [
    "Miramos los tipos de datos de cada columna"
   ]
  },
  {
   "cell_type": "code",
   "execution_count": 15,
   "id": "d9c90e0f",
   "metadata": {},
   "outputs": [
    {
     "name": "stdout",
     "output_type": "stream",
     "text": [
      "<class 'pandas.core.frame.DataFrame'>\n",
      "RangeIndex: 1936758 entries, 0 to 1936757\n",
      "Data columns (total 15 columns):\n",
      " #   Column             Dtype  \n",
      "---  ------             -----  \n",
      " 0   Month              int64  \n",
      " 1   DayOfWeek          int64  \n",
      " 2   DepTime            float64\n",
      " 3   CRSDepTime         int64  \n",
      " 4   ArrTime            float64\n",
      " 5   CRSArrTime         int64  \n",
      " 6   UniqueCarrier      object \n",
      " 7   ActualElapsedTime  float64\n",
      " 8   CRSElapsedTime     float64\n",
      " 9   AirTime            float64\n",
      " 10  ArrDelay           float64\n",
      " 11  DepDelay           float64\n",
      " 12  Distance           int64  \n",
      " 13  Cancelled          int64  \n",
      " 14  Diverted           int64  \n",
      "dtypes: float64(7), int64(7), object(1)\n",
      "memory usage: 221.6+ MB\n"
     ]
    }
   ],
   "source": [
    "X.info()"
   ]
  },
  {
   "cell_type": "markdown",
   "id": "04c3a48b",
   "metadata": {},
   "source": [
    "* Creamos las nuevas columnas 'SpeedAv' y 'Late'\n",
    "\n",
    "Definimos la caracteristica 'SpeedAv' como la velocidad media en [millas/h] del trayecto"
   ]
  },
  {
   "cell_type": "code",
   "execution_count": 16,
   "id": "d354c634",
   "metadata": {},
   "outputs": [],
   "source": [
    "SpeedAv= X['Distance']*60/X['ActualElapsedTime']"
   ]
  },
  {
   "cell_type": "code",
   "execution_count": 17,
   "id": "98104ea1",
   "metadata": {},
   "outputs": [],
   "source": [
    "X.insert(13, 'SpeedAv', SpeedAv)"
   ]
  },
  {
   "cell_type": "code",
   "execution_count": 18,
   "id": "19c1cf72",
   "metadata": {},
   "outputs": [
    {
     "data": {
      "text/plain": [
       "(1936758, 16)"
      ]
     },
     "execution_count": 18,
     "metadata": {},
     "output_type": "execute_result"
    }
   ],
   "source": [
    "X.shape"
   ]
  },
  {
   "cell_type": "markdown",
   "id": "8a3ff000",
   "metadata": {},
   "source": [
    "Creamos la columna 'Late' que tomara valores 'bool'. Valdrá True si el retraso en la llegada X['ArrDelay'] es positivo."
   ]
  },
  {
   "cell_type": "code",
   "execution_count": 19,
   "id": "22c6b6c5",
   "metadata": {},
   "outputs": [],
   "source": [
    "Late= X['ArrDelay'] > 0"
   ]
  },
  {
   "cell_type": "code",
   "execution_count": 20,
   "id": "f2b7ba62",
   "metadata": {},
   "outputs": [],
   "source": [
    "X.insert(14,'Late', Late)"
   ]
  },
  {
   "cell_type": "code",
   "execution_count": 21,
   "id": "f5aca78f",
   "metadata": {},
   "outputs": [
    {
     "data": {
      "text/plain": [
       "(1936758, 17)"
      ]
     },
     "execution_count": 21,
     "metadata": {},
     "output_type": "execute_result"
    }
   ],
   "source": [
    "X.shape"
   ]
  },
  {
   "cell_type": "markdown",
   "id": "a694de91",
   "metadata": {},
   "source": [
    "Verificamos la creacion de las columnas en las ubicaciones definidas asi como los valores observados"
   ]
  },
  {
   "cell_type": "code",
   "execution_count": 22,
   "id": "92dffee5",
   "metadata": {},
   "outputs": [
    {
     "data": {
      "text/html": [
       "<div>\n",
       "<style scoped>\n",
       "    .dataframe tbody tr th:only-of-type {\n",
       "        vertical-align: middle;\n",
       "    }\n",
       "\n",
       "    .dataframe tbody tr th {\n",
       "        vertical-align: top;\n",
       "    }\n",
       "\n",
       "    .dataframe thead th {\n",
       "        text-align: right;\n",
       "    }\n",
       "</style>\n",
       "<table border=\"1\" class=\"dataframe\">\n",
       "  <thead>\n",
       "    <tr style=\"text-align: right;\">\n",
       "      <th></th>\n",
       "      <th>Month</th>\n",
       "      <th>DayOfWeek</th>\n",
       "      <th>DepTime</th>\n",
       "      <th>CRSDepTime</th>\n",
       "      <th>ArrTime</th>\n",
       "      <th>CRSArrTime</th>\n",
       "      <th>UniqueCarrier</th>\n",
       "      <th>ActualElapsedTime</th>\n",
       "      <th>CRSElapsedTime</th>\n",
       "      <th>AirTime</th>\n",
       "      <th>ArrDelay</th>\n",
       "      <th>DepDelay</th>\n",
       "      <th>Distance</th>\n",
       "      <th>SpeedAv</th>\n",
       "      <th>Late</th>\n",
       "      <th>Cancelled</th>\n",
       "      <th>Diverted</th>\n",
       "    </tr>\n",
       "  </thead>\n",
       "  <tbody>\n",
       "    <tr>\n",
       "      <th>0</th>\n",
       "      <td>1</td>\n",
       "      <td>4</td>\n",
       "      <td>2003.0</td>\n",
       "      <td>1955</td>\n",
       "      <td>2211.0</td>\n",
       "      <td>2225</td>\n",
       "      <td>WN</td>\n",
       "      <td>128.0</td>\n",
       "      <td>150.0</td>\n",
       "      <td>116.0</td>\n",
       "      <td>-14.0</td>\n",
       "      <td>8.0</td>\n",
       "      <td>810</td>\n",
       "      <td>379.687500</td>\n",
       "      <td>False</td>\n",
       "      <td>0</td>\n",
       "      <td>0</td>\n",
       "    </tr>\n",
       "    <tr>\n",
       "      <th>1</th>\n",
       "      <td>1</td>\n",
       "      <td>4</td>\n",
       "      <td>754.0</td>\n",
       "      <td>735</td>\n",
       "      <td>1002.0</td>\n",
       "      <td>1000</td>\n",
       "      <td>WN</td>\n",
       "      <td>128.0</td>\n",
       "      <td>145.0</td>\n",
       "      <td>113.0</td>\n",
       "      <td>2.0</td>\n",
       "      <td>19.0</td>\n",
       "      <td>810</td>\n",
       "      <td>379.687500</td>\n",
       "      <td>True</td>\n",
       "      <td>0</td>\n",
       "      <td>0</td>\n",
       "    </tr>\n",
       "    <tr>\n",
       "      <th>2</th>\n",
       "      <td>1</td>\n",
       "      <td>4</td>\n",
       "      <td>628.0</td>\n",
       "      <td>620</td>\n",
       "      <td>804.0</td>\n",
       "      <td>750</td>\n",
       "      <td>WN</td>\n",
       "      <td>96.0</td>\n",
       "      <td>90.0</td>\n",
       "      <td>76.0</td>\n",
       "      <td>14.0</td>\n",
       "      <td>8.0</td>\n",
       "      <td>515</td>\n",
       "      <td>321.875000</td>\n",
       "      <td>True</td>\n",
       "      <td>0</td>\n",
       "      <td>0</td>\n",
       "    </tr>\n",
       "    <tr>\n",
       "      <th>3</th>\n",
       "      <td>1</td>\n",
       "      <td>4</td>\n",
       "      <td>1829.0</td>\n",
       "      <td>1755</td>\n",
       "      <td>1959.0</td>\n",
       "      <td>1925</td>\n",
       "      <td>WN</td>\n",
       "      <td>90.0</td>\n",
       "      <td>90.0</td>\n",
       "      <td>77.0</td>\n",
       "      <td>34.0</td>\n",
       "      <td>34.0</td>\n",
       "      <td>515</td>\n",
       "      <td>343.333333</td>\n",
       "      <td>True</td>\n",
       "      <td>0</td>\n",
       "      <td>0</td>\n",
       "    </tr>\n",
       "    <tr>\n",
       "      <th>4</th>\n",
       "      <td>1</td>\n",
       "      <td>4</td>\n",
       "      <td>1940.0</td>\n",
       "      <td>1915</td>\n",
       "      <td>2121.0</td>\n",
       "      <td>2110</td>\n",
       "      <td>WN</td>\n",
       "      <td>101.0</td>\n",
       "      <td>115.0</td>\n",
       "      <td>87.0</td>\n",
       "      <td>11.0</td>\n",
       "      <td>25.0</td>\n",
       "      <td>688</td>\n",
       "      <td>408.712871</td>\n",
       "      <td>True</td>\n",
       "      <td>0</td>\n",
       "      <td>0</td>\n",
       "    </tr>\n",
       "  </tbody>\n",
       "</table>\n",
       "</div>"
      ],
      "text/plain": [
       "   Month  DayOfWeek  DepTime  CRSDepTime  ArrTime  CRSArrTime UniqueCarrier  \\\n",
       "0      1          4   2003.0        1955   2211.0        2225            WN   \n",
       "1      1          4    754.0         735   1002.0        1000            WN   \n",
       "2      1          4    628.0         620    804.0         750            WN   \n",
       "3      1          4   1829.0        1755   1959.0        1925            WN   \n",
       "4      1          4   1940.0        1915   2121.0        2110            WN   \n",
       "\n",
       "   ActualElapsedTime  CRSElapsedTime  AirTime  ArrDelay  DepDelay  Distance  \\\n",
       "0              128.0           150.0    116.0     -14.0       8.0       810   \n",
       "1              128.0           145.0    113.0       2.0      19.0       810   \n",
       "2               96.0            90.0     76.0      14.0       8.0       515   \n",
       "3               90.0            90.0     77.0      34.0      34.0       515   \n",
       "4              101.0           115.0     87.0      11.0      25.0       688   \n",
       "\n",
       "      SpeedAv   Late  Cancelled  Diverted  \n",
       "0  379.687500  False          0         0  \n",
       "1  379.687500   True          0         0  \n",
       "2  321.875000   True          0         0  \n",
       "3  343.333333   True          0         0  \n",
       "4  408.712871   True          0         0  "
      ]
     },
     "execution_count": 22,
     "metadata": {},
     "output_type": "execute_result"
    }
   ],
   "source": [
    "X.head()"
   ]
  },
  {
   "cell_type": "code",
   "execution_count": 23,
   "id": "febc8d1f",
   "metadata": {},
   "outputs": [
    {
     "data": {
      "text/html": [
       "<div>\n",
       "<style scoped>\n",
       "    .dataframe tbody tr th:only-of-type {\n",
       "        vertical-align: middle;\n",
       "    }\n",
       "\n",
       "    .dataframe tbody tr th {\n",
       "        vertical-align: top;\n",
       "    }\n",
       "\n",
       "    .dataframe thead th {\n",
       "        text-align: right;\n",
       "    }\n",
       "</style>\n",
       "<table border=\"1\" class=\"dataframe\">\n",
       "  <thead>\n",
       "    <tr style=\"text-align: right;\">\n",
       "      <th></th>\n",
       "      <th>Month</th>\n",
       "      <th>DayOfWeek</th>\n",
       "      <th>DepTime</th>\n",
       "      <th>CRSDepTime</th>\n",
       "      <th>ArrTime</th>\n",
       "      <th>CRSArrTime</th>\n",
       "      <th>ActualElapsedTime</th>\n",
       "      <th>CRSElapsedTime</th>\n",
       "      <th>AirTime</th>\n",
       "      <th>ArrDelay</th>\n",
       "      <th>DepDelay</th>\n",
       "      <th>Distance</th>\n",
       "      <th>SpeedAv</th>\n",
       "      <th>Cancelled</th>\n",
       "      <th>Diverted</th>\n",
       "    </tr>\n",
       "  </thead>\n",
       "  <tbody>\n",
       "    <tr>\n",
       "      <th>count</th>\n",
       "      <td>1.936758e+06</td>\n",
       "      <td>1.936758e+06</td>\n",
       "      <td>1.936758e+06</td>\n",
       "      <td>1.936758e+06</td>\n",
       "      <td>1.929648e+06</td>\n",
       "      <td>1.936758e+06</td>\n",
       "      <td>1.928371e+06</td>\n",
       "      <td>1.936560e+06</td>\n",
       "      <td>1.928371e+06</td>\n",
       "      <td>1.928371e+06</td>\n",
       "      <td>1.936758e+06</td>\n",
       "      <td>1.936758e+06</td>\n",
       "      <td>1.928371e+06</td>\n",
       "      <td>1.936758e+06</td>\n",
       "      <td>1.936758e+06</td>\n",
       "    </tr>\n",
       "    <tr>\n",
       "      <th>mean</th>\n",
       "      <td>6.111106e+00</td>\n",
       "      <td>3.984827e+00</td>\n",
       "      <td>1.518534e+03</td>\n",
       "      <td>1.467473e+03</td>\n",
       "      <td>1.610141e+03</td>\n",
       "      <td>1.634225e+03</td>\n",
       "      <td>1.333059e+02</td>\n",
       "      <td>1.343027e+02</td>\n",
       "      <td>1.082771e+02</td>\n",
       "      <td>4.219988e+01</td>\n",
       "      <td>4.318518e+01</td>\n",
       "      <td>7.656862e+02</td>\n",
       "      <td>3.152272e+02</td>\n",
       "      <td>3.268348e-04</td>\n",
       "      <td>4.003598e-03</td>\n",
       "    </tr>\n",
       "    <tr>\n",
       "      <th>std</th>\n",
       "      <td>3.482546e+00</td>\n",
       "      <td>1.995966e+00</td>\n",
       "      <td>4.504853e+02</td>\n",
       "      <td>4.247668e+02</td>\n",
       "      <td>5.481781e+02</td>\n",
       "      <td>4.646347e+02</td>\n",
       "      <td>7.206007e+01</td>\n",
       "      <td>7.134144e+01</td>\n",
       "      <td>6.864261e+01</td>\n",
       "      <td>5.678472e+01</td>\n",
       "      <td>5.340250e+01</td>\n",
       "      <td>5.744797e+02</td>\n",
       "      <td>9.025755e+01</td>\n",
       "      <td>1.807562e-02</td>\n",
       "      <td>6.314722e-02</td>\n",
       "    </tr>\n",
       "    <tr>\n",
       "      <th>min</th>\n",
       "      <td>1.000000e+00</td>\n",
       "      <td>1.000000e+00</td>\n",
       "      <td>1.000000e+00</td>\n",
       "      <td>0.000000e+00</td>\n",
       "      <td>1.000000e+00</td>\n",
       "      <td>0.000000e+00</td>\n",
       "      <td>1.400000e+01</td>\n",
       "      <td>-2.500000e+01</td>\n",
       "      <td>0.000000e+00</td>\n",
       "      <td>-1.090000e+02</td>\n",
       "      <td>6.000000e+00</td>\n",
       "      <td>1.100000e+01</td>\n",
       "      <td>1.100000e+01</td>\n",
       "      <td>0.000000e+00</td>\n",
       "      <td>0.000000e+00</td>\n",
       "    </tr>\n",
       "    <tr>\n",
       "      <th>25%</th>\n",
       "      <td>3.000000e+00</td>\n",
       "      <td>2.000000e+00</td>\n",
       "      <td>1.203000e+03</td>\n",
       "      <td>1.135000e+03</td>\n",
       "      <td>1.316000e+03</td>\n",
       "      <td>1.325000e+03</td>\n",
       "      <td>8.000000e+01</td>\n",
       "      <td>8.200000e+01</td>\n",
       "      <td>5.800000e+01</td>\n",
       "      <td>9.000000e+00</td>\n",
       "      <td>1.200000e+01</td>\n",
       "      <td>3.380000e+02</td>\n",
       "      <td>2.555172e+02</td>\n",
       "      <td>0.000000e+00</td>\n",
       "      <td>0.000000e+00</td>\n",
       "    </tr>\n",
       "    <tr>\n",
       "      <th>50%</th>\n",
       "      <td>6.000000e+00</td>\n",
       "      <td>4.000000e+00</td>\n",
       "      <td>1.545000e+03</td>\n",
       "      <td>1.510000e+03</td>\n",
       "      <td>1.715000e+03</td>\n",
       "      <td>1.705000e+03</td>\n",
       "      <td>1.160000e+02</td>\n",
       "      <td>1.160000e+02</td>\n",
       "      <td>9.000000e+01</td>\n",
       "      <td>2.400000e+01</td>\n",
       "      <td>2.400000e+01</td>\n",
       "      <td>6.060000e+02</td>\n",
       "      <td>3.221429e+02</td>\n",
       "      <td>0.000000e+00</td>\n",
       "      <td>0.000000e+00</td>\n",
       "    </tr>\n",
       "    <tr>\n",
       "      <th>75%</th>\n",
       "      <td>9.000000e+00</td>\n",
       "      <td>6.000000e+00</td>\n",
       "      <td>1.900000e+03</td>\n",
       "      <td>1.815000e+03</td>\n",
       "      <td>2.030000e+03</td>\n",
       "      <td>2.014000e+03</td>\n",
       "      <td>1.650000e+02</td>\n",
       "      <td>1.650000e+02</td>\n",
       "      <td>1.370000e+02</td>\n",
       "      <td>5.600000e+01</td>\n",
       "      <td>5.300000e+01</td>\n",
       "      <td>9.980000e+02</td>\n",
       "      <td>3.802941e+02</td>\n",
       "      <td>0.000000e+00</td>\n",
       "      <td>0.000000e+00</td>\n",
       "    </tr>\n",
       "    <tr>\n",
       "      <th>max</th>\n",
       "      <td>1.200000e+01</td>\n",
       "      <td>7.000000e+00</td>\n",
       "      <td>2.400000e+03</td>\n",
       "      <td>2.359000e+03</td>\n",
       "      <td>2.400000e+03</td>\n",
       "      <td>2.400000e+03</td>\n",
       "      <td>1.114000e+03</td>\n",
       "      <td>6.600000e+02</td>\n",
       "      <td>1.091000e+03</td>\n",
       "      <td>2.461000e+03</td>\n",
       "      <td>2.467000e+03</td>\n",
       "      <td>4.962000e+03</td>\n",
       "      <td>1.662857e+03</td>\n",
       "      <td>1.000000e+00</td>\n",
       "      <td>1.000000e+00</td>\n",
       "    </tr>\n",
       "  </tbody>\n",
       "</table>\n",
       "</div>"
      ],
      "text/plain": [
       "              Month     DayOfWeek       DepTime    CRSDepTime       ArrTime  \\\n",
       "count  1.936758e+06  1.936758e+06  1.936758e+06  1.936758e+06  1.929648e+06   \n",
       "mean   6.111106e+00  3.984827e+00  1.518534e+03  1.467473e+03  1.610141e+03   \n",
       "std    3.482546e+00  1.995966e+00  4.504853e+02  4.247668e+02  5.481781e+02   \n",
       "min    1.000000e+00  1.000000e+00  1.000000e+00  0.000000e+00  1.000000e+00   \n",
       "25%    3.000000e+00  2.000000e+00  1.203000e+03  1.135000e+03  1.316000e+03   \n",
       "50%    6.000000e+00  4.000000e+00  1.545000e+03  1.510000e+03  1.715000e+03   \n",
       "75%    9.000000e+00  6.000000e+00  1.900000e+03  1.815000e+03  2.030000e+03   \n",
       "max    1.200000e+01  7.000000e+00  2.400000e+03  2.359000e+03  2.400000e+03   \n",
       "\n",
       "         CRSArrTime  ActualElapsedTime  CRSElapsedTime       AirTime  \\\n",
       "count  1.936758e+06       1.928371e+06    1.936560e+06  1.928371e+06   \n",
       "mean   1.634225e+03       1.333059e+02    1.343027e+02  1.082771e+02   \n",
       "std    4.646347e+02       7.206007e+01    7.134144e+01  6.864261e+01   \n",
       "min    0.000000e+00       1.400000e+01   -2.500000e+01  0.000000e+00   \n",
       "25%    1.325000e+03       8.000000e+01    8.200000e+01  5.800000e+01   \n",
       "50%    1.705000e+03       1.160000e+02    1.160000e+02  9.000000e+01   \n",
       "75%    2.014000e+03       1.650000e+02    1.650000e+02  1.370000e+02   \n",
       "max    2.400000e+03       1.114000e+03    6.600000e+02  1.091000e+03   \n",
       "\n",
       "           ArrDelay      DepDelay      Distance       SpeedAv     Cancelled  \\\n",
       "count  1.928371e+06  1.936758e+06  1.936758e+06  1.928371e+06  1.936758e+06   \n",
       "mean   4.219988e+01  4.318518e+01  7.656862e+02  3.152272e+02  3.268348e-04   \n",
       "std    5.678472e+01  5.340250e+01  5.744797e+02  9.025755e+01  1.807562e-02   \n",
       "min   -1.090000e+02  6.000000e+00  1.100000e+01  1.100000e+01  0.000000e+00   \n",
       "25%    9.000000e+00  1.200000e+01  3.380000e+02  2.555172e+02  0.000000e+00   \n",
       "50%    2.400000e+01  2.400000e+01  6.060000e+02  3.221429e+02  0.000000e+00   \n",
       "75%    5.600000e+01  5.300000e+01  9.980000e+02  3.802941e+02  0.000000e+00   \n",
       "max    2.461000e+03  2.467000e+03  4.962000e+03  1.662857e+03  1.000000e+00   \n",
       "\n",
       "           Diverted  \n",
       "count  1.936758e+06  \n",
       "mean   4.003598e-03  \n",
       "std    6.314722e-02  \n",
       "min    0.000000e+00  \n",
       "25%    0.000000e+00  \n",
       "50%    0.000000e+00  \n",
       "75%    0.000000e+00  \n",
       "max    1.000000e+00  "
      ]
     },
     "execution_count": 23,
     "metadata": {},
     "output_type": "execute_result"
    }
   ],
   "source": [
    "X.describe()"
   ]
  },
  {
   "cell_type": "code",
   "execution_count": 24,
   "id": "040735c7",
   "metadata": {},
   "outputs": [
    {
     "name": "stdout",
     "output_type": "stream",
     "text": [
      "Porcentaje de vuelos por compañia:\n"
     ]
    },
    {
     "data": {
      "text/plain": [
       "WN    19.50\n",
       "AA     9.91\n",
       "MQ     7.33\n",
       "UA     7.30\n",
       "OO     6.84\n",
       "DL     5.90\n",
       "XE     5.35\n",
       "CO     5.17\n",
       "US     5.08\n",
       "EV     4.23\n",
       "NW     4.08\n",
       "FL     3.68\n",
       "YV     3.46\n",
       "B6     2.86\n",
       "OH     2.72\n",
       "9E     2.68\n",
       "AS     2.03\n",
       "F9     1.46\n",
       "HA     0.39\n",
       "AQ     0.04\n",
       "Name: UniqueCarrier, dtype: float64"
      ]
     },
     "execution_count": 24,
     "metadata": {},
     "output_type": "execute_result"
    }
   ],
   "source": [
    "print('Porcentaje de vuelos por compañia:')\n",
    "round(X['UniqueCarrier'].value_counts(normalize=True)*100,2)"
   ]
  },
  {
   "cell_type": "markdown",
   "id": "bc328e95",
   "metadata": {},
   "source": [
    "* Grafico de porcentaje de vuelos por compañia"
   ]
  },
  {
   "cell_type": "markdown",
   "id": "5333e46e",
   "metadata": {},
   "source": [
    "![carriers](./pics/carriers.png)"
   ]
  },
  {
   "cell_type": "markdown",
   "id": "6b73fa9d",
   "metadata": {},
   "source": [
    "Vemos cuantos vuelos han tenido retrasos"
   ]
  },
  {
   "cell_type": "code",
   "execution_count": 25,
   "id": "3de89fd4",
   "metadata": {},
   "outputs": [
    {
     "name": "stdout",
     "output_type": "stream",
     "text": [
      "Numero de vuelos retrasados:\n"
     ]
    },
    {
     "data": {
      "text/plain": [
       "1723415"
      ]
     },
     "execution_count": 25,
     "metadata": {},
     "output_type": "execute_result"
    }
   ],
   "source": [
    "print('Numero de vuelos retrasados:')\n",
    "X['Late'].sum()"
   ]
  },
  {
   "cell_type": "code",
   "execution_count": 26,
   "id": "6851346a",
   "metadata": {},
   "outputs": [
    {
     "name": "stdout",
     "output_type": "stream",
     "text": [
      "Porcentaje de vuelos retrasados respecto el total:\n"
     ]
    },
    {
     "data": {
      "text/plain": [
       "88.98"
      ]
     },
     "execution_count": 26,
     "metadata": {},
     "output_type": "execute_result"
    }
   ],
   "source": [
    "print('Porcentaje de vuelos retrasados respecto el total:')\n",
    "round(X['Late'].sum()/X.shape[0]*100,2)"
   ]
  },
  {
   "cell_type": "markdown",
   "id": "8d617dd8",
   "metadata": {},
   "source": [
    "Consideremos los datos de los vuelos retrasados en el DataFrame X_late"
   ]
  },
  {
   "cell_type": "code",
   "execution_count": 27,
   "id": "2010b9c7",
   "metadata": {},
   "outputs": [],
   "source": [
    "X_late = X[X['Late']]"
   ]
  },
  {
   "cell_type": "markdown",
   "id": "80e11fc1",
   "metadata": {},
   "source": [
    "Calculemos el porcentaje de vuelos retrasados por compañia"
   ]
  },
  {
   "cell_type": "code",
   "execution_count": 28,
   "id": "f1d81934",
   "metadata": {},
   "outputs": [
    {
     "name": "stdout",
     "output_type": "stream",
     "text": [
      "Porcentaje de vuelos retrasados por compañia:\n"
     ]
    },
    {
     "data": {
      "text/plain": [
       "WN    18.84\n",
       "AA     9.99\n",
       "MQ     7.58\n",
       "UA     7.19\n",
       "OO     7.08\n",
       "DL     5.86\n",
       "XE     5.47\n",
       "CO     4.85\n",
       "US     4.83\n",
       "EV     4.36\n",
       "NW     4.20\n",
       "FL     3.77\n",
       "YV     3.67\n",
       "OH     2.85\n",
       "B6     2.80\n",
       "9E     2.72\n",
       "AS     1.98\n",
       "F9     1.49\n",
       "HA     0.42\n",
       "AQ     0.04\n",
       "Name: UniqueCarrier, dtype: float64"
      ]
     },
     "execution_count": 28,
     "metadata": {},
     "output_type": "execute_result"
    }
   ],
   "source": [
    "print('Porcentaje de vuelos retrasados por compañia:')\n",
    "round(X_late['UniqueCarrier'].value_counts(normalize=True)*100,2)"
   ]
  },
  {
   "cell_type": "markdown",
   "id": "b9d07013",
   "metadata": {},
   "source": [
    "* Histograma del retraso de los vuelos 'ArrDelay'"
   ]
  },
  {
   "cell_type": "markdown",
   "id": "0f4749d5",
   "metadata": {},
   "source": [
    "![arrdelay](./pics/arrdelay.png)"
   ]
  },
  {
   "cell_type": "markdown",
   "id": "55a4ae53",
   "metadata": {},
   "source": [
    "* Diagrama bivariante entre 'ArrDelay' y 'DepDelay'"
   ]
  },
  {
   "cell_type": "markdown",
   "id": "64450da1",
   "metadata": {},
   "source": [
    "![arrdelay_vs_depdelay](./pics/arrdelay_depdelay.png)"
   ]
  },
  {
   "cell_type": "markdown",
   "id": "0af1ceb0",
   "metadata": {},
   "source": [
    "* Grafico de 'ArrDelay' vs 'DepDelay' agrupado por 'UniqueCarrier'"
   ]
  },
  {
   "cell_type": "markdown",
   "id": "03f94c53",
   "metadata": {},
   "source": [
    "![arrdelay_depdelay_carrier](./pics/arrdelay_depdelay_carrier.png)"
   ]
  },
  {
   "cell_type": "markdown",
   "id": "55a0767d",
   "metadata": {},
   "source": [
    "* Grafico de 'ArrDelay' vs 'DepDelay' y 'AirTime'"
   ]
  },
  {
   "cell_type": "markdown",
   "id": "a690249f",
   "metadata": {},
   "source": [
    "![arrdelay_depdelay_airtime](./pics/arrdelay_depdelay_airtime.png)"
   ]
  },
  {
   "cell_type": "markdown",
   "id": "5efd9bc7",
   "metadata": {},
   "source": [
    "* Grafico de 'ArrDelay' vs 'DepDelay' y 'AirTime' agrupado por 'UniqueCarrier'"
   ]
  },
  {
   "cell_type": "markdown",
   "id": "3800c767",
   "metadata": {},
   "source": [
    "![4variables3](./pics/4variables3.png)"
   ]
  },
  {
   "cell_type": "markdown",
   "id": "9ae49bee",
   "metadata": {},
   "source": [
    "* Observemos los vuelos mas largos. Definamos _**X_long**_ para los vuelos con una 'Distance' superior a mean+std"
   ]
  },
  {
   "cell_type": "code",
   "execution_count": 29,
   "id": "bfad1135",
   "metadata": {},
   "outputs": [
    {
     "data": {
      "text/plain": [
       "1340.1658121069263"
      ]
     },
     "execution_count": 29,
     "metadata": {},
     "output_type": "execute_result"
    }
   ],
   "source": [
    "X['Distance'].mean() + X['Distance'].std()"
   ]
  },
  {
   "cell_type": "code",
   "execution_count": 30,
   "id": "b986d040",
   "metadata": {},
   "outputs": [],
   "source": [
    "X_long= X[X['Distance']>1340.16]"
   ]
  },
  {
   "cell_type": "code",
   "execution_count": 31,
   "id": "2d015f2b",
   "metadata": {},
   "outputs": [
    {
     "name": "stdout",
     "output_type": "stream",
     "text": [
      "Numero de vuelos considerados largos:\n"
     ]
    },
    {
     "data": {
      "text/plain": [
       "278175"
      ]
     },
     "execution_count": 31,
     "metadata": {},
     "output_type": "execute_result"
    }
   ],
   "source": [
    "print('Numero de vuelos considerados largos:')\n",
    "X_long.shape[0]"
   ]
  },
  {
   "cell_type": "code",
   "execution_count": 32,
   "id": "5a3afc36",
   "metadata": {},
   "outputs": [
    {
     "name": "stdout",
     "output_type": "stream",
     "text": [
      "Porcentaje de vuelos largos respecto el total:\n"
     ]
    },
    {
     "data": {
      "text/plain": [
       "14.36"
      ]
     },
     "execution_count": 32,
     "metadata": {},
     "output_type": "execute_result"
    }
   ],
   "source": [
    "print('Porcentaje de vuelos largos respecto el total:')\n",
    "round(X_long.shape[0]/X.shape[0]*100,2)"
   ]
  },
  {
   "cell_type": "code",
   "execution_count": 33,
   "id": "6a9d61ad",
   "metadata": {},
   "outputs": [
    {
     "name": "stdout",
     "output_type": "stream",
     "text": [
      "Porcentaje de vuelos largos por compañia:\n"
     ]
    },
    {
     "data": {
      "text/plain": [
       "AA    17.75\n",
       "UA    16.05\n",
       "CO    14.82\n",
       "WN    13.97\n",
       "DL    10.30\n",
       "US     9.69\n",
       "NW     4.87\n",
       "B6     4.60\n",
       "AS     3.01\n",
       "FL     1.98\n",
       "F9     1.16\n",
       "HA     0.84\n",
       "OO     0.39\n",
       "XE     0.21\n",
       "OH     0.14\n",
       "AQ     0.08\n",
       "MQ     0.08\n",
       "YV     0.04\n",
       "9E     0.02\n",
       "Name: UniqueCarrier, dtype: float64"
      ]
     },
     "execution_count": 33,
     "metadata": {},
     "output_type": "execute_result"
    }
   ],
   "source": [
    "print('Porcentaje de vuelos largos por compañia:')\n",
    "round(X_long['UniqueCarrier'].value_counts(normalize=True)*100, 2)"
   ]
  },
  {
   "cell_type": "markdown",
   "id": "e7f37dc8",
   "metadata": {},
   "source": [
    "* Observemos los vuelos mas retrasados. Definamos _**X_vlate**_ con los datos de los vuelos con 'ArrDelay' superior a mean+std"
   ]
  },
  {
   "cell_type": "code",
   "execution_count": 34,
   "id": "dd2e47fc",
   "metadata": {},
   "outputs": [
    {
     "data": {
      "text/plain": [
       "98.98"
      ]
     },
     "execution_count": 34,
     "metadata": {},
     "output_type": "execute_result"
    }
   ],
   "source": [
    "round(X['ArrDelay'].mean()+X['ArrDelay'].std(),2)"
   ]
  },
  {
   "cell_type": "code",
   "execution_count": 35,
   "id": "3b41342f",
   "metadata": {},
   "outputs": [],
   "source": [
    "X_vlate= X[X['ArrDelay']>98.98]"
   ]
  },
  {
   "cell_type": "code",
   "execution_count": 36,
   "id": "bbd6f7bf",
   "metadata": {},
   "outputs": [
    {
     "name": "stdout",
     "output_type": "stream",
     "text": [
      "Numero de vuelos considerados muy retrasados:\n"
     ]
    },
    {
     "data": {
      "text/plain": [
       "220461"
      ]
     },
     "execution_count": 36,
     "metadata": {},
     "output_type": "execute_result"
    }
   ],
   "source": [
    "print('Numero de vuelos considerados muy retrasados:')\n",
    "X_vlate.shape[0]"
   ]
  },
  {
   "cell_type": "code",
   "execution_count": 37,
   "id": "581f6d12",
   "metadata": {},
   "outputs": [
    {
     "name": "stdout",
     "output_type": "stream",
     "text": [
      "Porcentaje de vuelos considerados muy retrasados respecto del total:\n"
     ]
    },
    {
     "data": {
      "text/plain": [
       "11.38"
      ]
     },
     "execution_count": 37,
     "metadata": {},
     "output_type": "execute_result"
    }
   ],
   "source": [
    "print('Porcentaje de vuelos considerados muy retrasados respecto del total:')\n",
    "round(X_vlate.shape[0]/X.shape[0]*100,2)"
   ]
  },
  {
   "cell_type": "code",
   "execution_count": 38,
   "id": "748a13ed",
   "metadata": {},
   "outputs": [
    {
     "name": "stdout",
     "output_type": "stream",
     "text": [
      "Porcentaje de vuelos considerados muy retrasados por compañia.\n"
     ]
    },
    {
     "data": {
      "text/plain": [
       "AA    11.08\n",
       "WN    11.03\n",
       "UA     9.38\n",
       "OO     7.92\n",
       "MQ     7.37\n",
       "XE     7.11\n",
       "DL     5.47\n",
       "CO     5.38\n",
       "YV     5.31\n",
       "EV     5.11\n",
       "B6     4.47\n",
       "US     4.17\n",
       "FL     3.91\n",
       "OH     3.53\n",
       "NW     3.40\n",
       "9E     3.10\n",
       "AS     1.45\n",
       "F9     0.57\n",
       "HA     0.21\n",
       "AQ     0.01\n",
       "Name: UniqueCarrier, dtype: float64"
      ]
     },
     "execution_count": 38,
     "metadata": {},
     "output_type": "execute_result"
    }
   ],
   "source": [
    "print('Porcentaje de vuelos considerados muy retrasados por compañia.')\n",
    "round(X_vlate['UniqueCarrier'].value_counts(normalize=True)*100, 2)"
   ]
  },
  {
   "cell_type": "markdown",
   "id": "86748d1c",
   "metadata": {},
   "source": [
    "Consideremos ahora los datos de los vuelos con retraso contenidos en X_late.\n",
    "\n",
    "En total se han acumulado 82,604,167 min de retraso"
   ]
  },
  {
   "cell_type": "code",
   "execution_count": 39,
   "id": "0d923c94",
   "metadata": {},
   "outputs": [
    {
     "data": {
      "text/plain": [
       "82604167.0"
      ]
     },
     "execution_count": 39,
     "metadata": {},
     "output_type": "execute_result"
    }
   ],
   "source": [
    "X_late['ArrDelay'].sum()"
   ]
  },
  {
   "cell_type": "markdown",
   "id": "278a6480",
   "metadata": {},
   "source": [
    "* Valoremos el valor acumulado de retrasos agrupado por compañias.\n",
    "\n",
    "Consideremos los datos agrupados por 'UniqueCarrier' y almacenemoslos en el dataframe agrupado 'grouped'. Los indices son los diferentes valores que toma 'Uniquecarrier'"
   ]
  },
  {
   "cell_type": "code",
   "execution_count": 40,
   "id": "7e8408a7",
   "metadata": {},
   "outputs": [],
   "source": [
    "grouped=X_late.groupby('UniqueCarrier')"
   ]
  },
  {
   "cell_type": "code",
   "execution_count": 41,
   "id": "4f08252a",
   "metadata": {},
   "outputs": [
    {
     "data": {
      "text/plain": [
       "pandas.core.frame.DataFrame"
      ]
     },
     "execution_count": 41,
     "metadata": {},
     "output_type": "execute_result"
    }
   ],
   "source": [
    "type(X_late)"
   ]
  },
  {
   "cell_type": "code",
   "execution_count": 42,
   "id": "41d4fac9",
   "metadata": {},
   "outputs": [
    {
     "data": {
      "text/plain": [
       "pandas.core.groupby.generic.DataFrameGroupBy"
      ]
     },
     "execution_count": 42,
     "metadata": {},
     "output_type": "execute_result"
    }
   ],
   "source": [
    "type(grouped)"
   ]
  },
  {
   "cell_type": "markdown",
   "id": "5ca76a54",
   "metadata": {},
   "source": [
    "En la tabla podemos ver el valor acumulado de retrasos por compañia. Tambien podemos ver el valor medio de retraso, la dispersion de los retrasos y el valor máximo."
   ]
  },
  {
   "cell_type": "code",
   "execution_count": 43,
   "id": "10b623ae",
   "metadata": {},
   "outputs": [
    {
     "data": {
      "text/html": [
       "<div>\n",
       "<style scoped>\n",
       "    .dataframe tbody tr th:only-of-type {\n",
       "        vertical-align: middle;\n",
       "    }\n",
       "\n",
       "    .dataframe tbody tr th {\n",
       "        vertical-align: top;\n",
       "    }\n",
       "\n",
       "    .dataframe thead th {\n",
       "        text-align: right;\n",
       "    }\n",
       "</style>\n",
       "<table border=\"1\" class=\"dataframe\">\n",
       "  <thead>\n",
       "    <tr style=\"text-align: right;\">\n",
       "      <th></th>\n",
       "      <th>sum</th>\n",
       "      <th>mean</th>\n",
       "      <th>std</th>\n",
       "      <th>amax</th>\n",
       "    </tr>\n",
       "    <tr>\n",
       "      <th>UniqueCarrier</th>\n",
       "      <th></th>\n",
       "      <th></th>\n",
       "      <th></th>\n",
       "      <th></th>\n",
       "    </tr>\n",
       "  </thead>\n",
       "  <tbody>\n",
       "    <tr>\n",
       "      <th>9E</th>\n",
       "      <td>2443157.0</td>\n",
       "      <td>52.097343</td>\n",
       "      <td>60.852221</td>\n",
       "      <td>1143.0</td>\n",
       "    </tr>\n",
       "    <tr>\n",
       "      <th>AA</th>\n",
       "      <td>9007400.0</td>\n",
       "      <td>52.308693</td>\n",
       "      <td>61.801846</td>\n",
       "      <td>1525.0</td>\n",
       "    </tr>\n",
       "    <tr>\n",
       "      <th>AQ</th>\n",
       "      <td>17134.0</td>\n",
       "      <td>26.198777</td>\n",
       "      <td>34.289198</td>\n",
       "      <td>338.0</td>\n",
       "    </tr>\n",
       "    <tr>\n",
       "      <th>AS</th>\n",
       "      <td>1438977.0</td>\n",
       "      <td>42.101202</td>\n",
       "      <td>51.638684</td>\n",
       "      <td>948.0</td>\n",
       "    </tr>\n",
       "    <tr>\n",
       "      <th>B6</th>\n",
       "      <td>3080816.0</td>\n",
       "      <td>63.947859</td>\n",
       "      <td>69.418857</td>\n",
       "      <td>834.0</td>\n",
       "    </tr>\n",
       "    <tr>\n",
       "      <th>CO</th>\n",
       "      <td>4159659.0</td>\n",
       "      <td>49.729324</td>\n",
       "      <td>59.697231</td>\n",
       "      <td>1017.0</td>\n",
       "    </tr>\n",
       "    <tr>\n",
       "      <th>DL</th>\n",
       "      <td>4620911.0</td>\n",
       "      <td>45.786501</td>\n",
       "      <td>54.814263</td>\n",
       "      <td>1007.0</td>\n",
       "    </tr>\n",
       "    <tr>\n",
       "      <th>EV</th>\n",
       "      <td>3920352.0</td>\n",
       "      <td>52.153146</td>\n",
       "      <td>59.590063</td>\n",
       "      <td>940.0</td>\n",
       "    </tr>\n",
       "    <tr>\n",
       "      <th>F9</th>\n",
       "      <td>798332.0</td>\n",
       "      <td>31.053835</td>\n",
       "      <td>40.066953</td>\n",
       "      <td>809.0</td>\n",
       "    </tr>\n",
       "    <tr>\n",
       "      <th>FL</th>\n",
       "      <td>3129740.0</td>\n",
       "      <td>48.143921</td>\n",
       "      <td>56.336677</td>\n",
       "      <td>1175.0</td>\n",
       "    </tr>\n",
       "    <tr>\n",
       "      <th>HA</th>\n",
       "      <td>257923.0</td>\n",
       "      <td>35.827615</td>\n",
       "      <td>64.203954</td>\n",
       "      <td>1050.0</td>\n",
       "    </tr>\n",
       "    <tr>\n",
       "      <th>MQ</th>\n",
       "      <td>6443938.0</td>\n",
       "      <td>49.323276</td>\n",
       "      <td>61.346616</td>\n",
       "      <td>1707.0</td>\n",
       "    </tr>\n",
       "    <tr>\n",
       "      <th>NW</th>\n",
       "      <td>3498782.0</td>\n",
       "      <td>48.329056</td>\n",
       "      <td>74.595077</td>\n",
       "      <td>2461.0</td>\n",
       "    </tr>\n",
       "    <tr>\n",
       "      <th>OH</th>\n",
       "      <td>2696559.0</td>\n",
       "      <td>54.915261</td>\n",
       "      <td>58.046572</td>\n",
       "      <td>955.0</td>\n",
       "    </tr>\n",
       "    <tr>\n",
       "      <th>OO</th>\n",
       "      <td>6019322.0</td>\n",
       "      <td>49.362172</td>\n",
       "      <td>53.866605</td>\n",
       "      <td>990.0</td>\n",
       "    </tr>\n",
       "    <tr>\n",
       "      <th>UA</th>\n",
       "      <td>6850031.0</td>\n",
       "      <td>55.247086</td>\n",
       "      <td>59.536396</td>\n",
       "      <td>1322.0</td>\n",
       "    </tr>\n",
       "    <tr>\n",
       "      <th>US</th>\n",
       "      <td>3678122.0</td>\n",
       "      <td>44.175278</td>\n",
       "      <td>50.693495</td>\n",
       "      <td>876.0</td>\n",
       "    </tr>\n",
       "    <tr>\n",
       "      <th>WN</th>\n",
       "      <td>11609347.0</td>\n",
       "      <td>35.752200</td>\n",
       "      <td>43.578780</td>\n",
       "      <td>702.0</td>\n",
       "    </tr>\n",
       "    <tr>\n",
       "      <th>XE</th>\n",
       "      <td>5227263.0</td>\n",
       "      <td>55.424629</td>\n",
       "      <td>61.677044</td>\n",
       "      <td>838.0</td>\n",
       "    </tr>\n",
       "    <tr>\n",
       "      <th>YV</th>\n",
       "      <td>3706402.0</td>\n",
       "      <td>58.563131</td>\n",
       "      <td>60.866708</td>\n",
       "      <td>606.0</td>\n",
       "    </tr>\n",
       "  </tbody>\n",
       "</table>\n",
       "</div>"
      ],
      "text/plain": [
       "                      sum       mean        std    amax\n",
       "UniqueCarrier                                          \n",
       "9E              2443157.0  52.097343  60.852221  1143.0\n",
       "AA              9007400.0  52.308693  61.801846  1525.0\n",
       "AQ                17134.0  26.198777  34.289198   338.0\n",
       "AS              1438977.0  42.101202  51.638684   948.0\n",
       "B6              3080816.0  63.947859  69.418857   834.0\n",
       "CO              4159659.0  49.729324  59.697231  1017.0\n",
       "DL              4620911.0  45.786501  54.814263  1007.0\n",
       "EV              3920352.0  52.153146  59.590063   940.0\n",
       "F9               798332.0  31.053835  40.066953   809.0\n",
       "FL              3129740.0  48.143921  56.336677  1175.0\n",
       "HA               257923.0  35.827615  64.203954  1050.0\n",
       "MQ              6443938.0  49.323276  61.346616  1707.0\n",
       "NW              3498782.0  48.329056  74.595077  2461.0\n",
       "OH              2696559.0  54.915261  58.046572   955.0\n",
       "OO              6019322.0  49.362172  53.866605   990.0\n",
       "UA              6850031.0  55.247086  59.536396  1322.0\n",
       "US              3678122.0  44.175278  50.693495   876.0\n",
       "WN             11609347.0  35.752200  43.578780   702.0\n",
       "XE              5227263.0  55.424629  61.677044   838.0\n",
       "YV              3706402.0  58.563131  60.866708   606.0"
      ]
     },
     "execution_count": 43,
     "metadata": {},
     "output_type": "execute_result"
    }
   ],
   "source": [
    "grouped['ArrDelay'].agg([np.sum, np.mean, np.std, np.max])"
   ]
  },
  {
   "cell_type": "markdown",
   "id": "d48a84a9",
   "metadata": {},
   "source": [
    "* Retraso medio por compañia"
   ]
  },
  {
   "cell_type": "markdown",
   "id": "347cd98a",
   "metadata": {},
   "source": [
    "![mean_delay_carrier](./pics/mean_delay_carrier.png)"
   ]
  },
  {
   "cell_type": "code",
   "execution_count": 44,
   "id": "b09a506d",
   "metadata": {},
   "outputs": [
    {
     "name": "stdout",
     "output_type": "stream",
     "text": [
      "Porcentaje de retrasos acumulados por compañia.\n"
     ]
    },
    {
     "data": {
      "text/plain": [
       "UniqueCarrier\n",
       "WN    14.05\n",
       "AA    10.90\n",
       "UA     8.29\n",
       "MQ     7.80\n",
       "OO     7.29\n",
       "XE     6.33\n",
       "DL     5.59\n",
       "CO     5.04\n",
       "EV     4.75\n",
       "YV     4.49\n",
       "US     4.45\n",
       "NW     4.24\n",
       "FL     3.79\n",
       "B6     3.73\n",
       "OH     3.26\n",
       "9E     2.96\n",
       "AS     1.74\n",
       "F9     0.97\n",
       "HA     0.31\n",
       "AQ     0.02\n",
       "Name: ArrDelay, dtype: float64"
      ]
     },
     "execution_count": 44,
     "metadata": {},
     "output_type": "execute_result"
    }
   ],
   "source": [
    "print('Porcentaje de retrasos acumulados por compañia.')\n",
    "round(grouped['ArrDelay'].sum().sort_values(ascending=False)/82604167*100, 2)"
   ]
  },
  {
   "cell_type": "markdown",
   "id": "0a73e0f9",
   "metadata": {},
   "source": [
    "![accum_delay_carrier](./pics/accum_delay_carrier.png)"
   ]
  },
  {
   "cell_type": "markdown",
   "id": "f6a7a983",
   "metadata": {},
   "source": [
    "## Ejercicio 3\n",
    "\n",
    "Exporta el nuevo dataset a Excel\n",
    "\n",
    "----------------------------------------------"
   ]
  },
  {
   "cell_type": "markdown",
   "id": "9c92ac45",
   "metadata": {},
   "source": [
    "Pasemos a un archivo csv la tabla de datos con las caracteristicas de interes y las nuevas columnas 'SpeedAv' y 'Late'"
   ]
  },
  {
   "cell_type": "code",
   "execution_count": 45,
   "id": "433d8594",
   "metadata": {},
   "outputs": [],
   "source": [
    "X.to_csv('new_delayed_flights.csv')"
   ]
  }
 ],
 "metadata": {
  "kernelspec": {
   "display_name": "Python 3 (ipykernel)",
   "language": "python",
   "name": "python3"
  },
  "language_info": {
   "codemirror_mode": {
    "name": "ipython",
    "version": 3
   },
   "file_extension": ".py",
   "mimetype": "text/x-python",
   "name": "python",
   "nbconvert_exporter": "python",
   "pygments_lexer": "ipython3",
   "version": "3.8.10"
  }
 },
 "nbformat": 4,
 "nbformat_minor": 5
}
